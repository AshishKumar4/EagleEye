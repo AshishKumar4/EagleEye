{
 "cells": [
  {
   "cell_type": "code",
   "execution_count": 1,
   "metadata": {
    "scrolled": true
   },
   "outputs": [],
   "source": [
    "#from keras_facenet import FaceNet\n",
    "from scipy import misc\n",
    "#from mtcnn.mtcnn import MTCNN\n",
    "import mxnet as mx"
   ]
  },
  {
   "cell_type": "code",
   "execution_count": 2,
   "metadata": {},
   "outputs": [],
   "source": [
    "import cv2\n",
    "from sklearn.decomposition import PCA\n",
    "from mpl_toolkits.mplot3d import Axes3D\n",
    "from mpl_toolkits.mplot3d import proj3d\n",
    "from imageio import imread\n",
    "from skimage.transform import resize\n",
    "from scipy.spatial import distance\n",
    "from mlxtend.plotting import plot_confusion_matrix\n",
    "import numpy as np\n",
    "import matplotlib.pyplot as plt\n",
    "from sklearn.preprocessing import LabelEncoder\n",
    "from sklearn.metrics import *\n",
    "from sklearn.model_selection import train_test_split\n",
    "import skimage\n",
    "from sklearn.utils import shuffle\n",
    "import pandas as pd\n",
    "import sklearn\n",
    "import os\n",
    "import math\n",
    "\n",
    "import time\n",
    "from imutils import face_utils"
   ]
  },
  {
   "cell_type": "code",
   "execution_count": 4,
   "metadata": {},
   "outputs": [
    {
     "name": "stdout",
     "output_type": "stream",
     "text": [
      "./models/model.pkl\n",
      "Loading AI Engine\n"
     ]
    }
   ],
   "source": [
    "from AIengine import *\n",
    "ai_engine = AIengine('./models')"
   ]
  },
  {
   "cell_type": "code",
   "execution_count": 5,
   "metadata": {},
   "outputs": [],
   "source": [
    "from align_dlib import *"
   ]
  },
  {
   "cell_type": "code",
   "execution_count": 5,
   "metadata": {},
   "outputs": [],
   "source": [
    "dlib_model = AlignDlibFast('./models/shape_predictor_5_face_landmarks.dat')"
   ]
  },
  {
   "cell_type": "code",
   "execution_count": 6,
   "metadata": {},
   "outputs": [],
   "source": [
    "net = cv2.dnn.readNetFromCaffe('./cv2/deploy.prototxt.txt', './cv2/res10_300x300_ssd_iter_140000.caffemodel')"
   ]
  },
  {
   "cell_type": "code",
   "execution_count": 39,
   "metadata": {},
   "outputs": [],
   "source": [
    "def random_rotate_image(image):\n",
    "    angle = np.random.uniform(low=-10.0, high=10.0)\n",
    "    return skimage.transform.rotate(image, angle, 'bicubic')\n",
    "\n",
    "def rotate_image(image, angle = 0):\n",
    "    return skimage.transform.rotate(image, angle, 'bicubic')\n",
    "  \n",
    "def face_extract_dnn(img, margin=10, image_size=160, model=cv2_face_detector):\n",
    "    try:\n",
    "        t = time.time()\n",
    "        (h, w) = img.shape[:2]\n",
    "        blob = cv2.dnn.blobFromImage(cv2.resize(img, (image_size, image_size)), 1.0, (image_size, image_size), (103.93, 116.77, 123.68))\n",
    "        model.setInput(blob)\n",
    "        detections = model.forward()\n",
    "        confidence = detections[0, 0, 0, 2]\n",
    "        #print(detections)\n",
    "        if confidence >= 0.55:\n",
    "            box = detections[0, 0, 0, 3:7] * np.array([w, h, w, h])\n",
    "            (x, y, p, q) = box.astype('int')\n",
    "            (y1, y2, x1, x2) = (y-margin//2,q+margin//2, x-margin//2,p+margin//2)\n",
    "            (x1, y1) = [0 if i<0 else i for i in (x1, y1)]\n",
    "            faceDetected = (x1, y1, x2, y2) \n",
    "            cropped = img[y1:y2, x1:x2, :]\n",
    "            _img = resize(cropped, (112, 112),\n",
    "                          mode='reflect')\n",
    "            #print(time.time()-t)\n",
    "            return _img, faceDetected\n",
    "        else:\n",
    "            return img, False\n",
    "    except Exception as e:\n",
    "        print(\"Error in face_extract_dnn\")\n",
    "        print(e)\n",
    "        return img, False\n",
    "    return None\n",
    "\n",
    "def face_extract_dlib(img, margin=70, image_size=160):\n",
    "    try:\n",
    "        # print(faces[0].dtype)\n",
    "        cropped = dlib_model.align_and_crop(image_size, img, margin=margin)\n",
    "        img = resize(cropped, (image_size, image_size), mode='reflect')\n",
    "    except Exception as e:\n",
    "        print(\"error in face detection\")\n",
    "        print(e)\n",
    "        img = resize(img, (image_size, image_size), mode='reflect')\n",
    "        faceDetected = False\n",
    "    return img, faceDetected\n",
    "\n",
    "mtcnn_model = None#MTCNN()\n",
    "\n",
    "def face_extract_mtcnn(img, margin=0, image_size=160, model=mtcnn_model):\n",
    "    try:\n",
    "        t = time.time()\n",
    "        detections = model.detect_faces(img)\n",
    "        print(detections)\n",
    "        confidence = [i['confidence'] for i in detections][0]\n",
    "        if confidence >= 0.55:\n",
    "            box = detections[0]['box']\n",
    "            (x, y, p, q) = box\n",
    "            (y1, y2, x1, x2) = (y-margin//2,q+y+margin//2, x-margin//2,p+x+margin//2)\n",
    "            (x1, y1) = [0 if i<0 else i for i in (x1, y1)]\n",
    "            faceDetected = (x1, y1, x2, y2) \n",
    "            cropped = img[y1:y2, x1:x2, :]\n",
    "            _img = resize(cropped, (image_size, image_size), mode='reflect')\n",
    "            #print(time.time()-t)\n",
    "            return _img, faceDetected\n",
    "        else:\n",
    "            return img, False\n",
    "    except Exception as e:\n",
    "        print(\"Error in face_extract_dnn\")\n",
    "        print(e)\n",
    "        print(\"\\t\\t\" + str(confidence) + \" \" + str(faceDetected))\n",
    "        return img, False\n",
    "    return None\n",
    "\n",
    "cascade = cv2.CascadeClassifier('./cv2/haarcascade_frontalface_alt2.xml')\n",
    "def face_extract_haar(img, margin=70, image_size=160, cascade = cascade):\n",
    "    try:\n",
    "        t = time.time()\n",
    "        faces = cascade.detectMultiScale(img,\n",
    "                                         scaleFactor=1.1,\n",
    "                                         minNeighbors=3)\n",
    "        (x, y, w, h) = faces[0]\n",
    "        faceDetected = (x, y, w, h)\n",
    "        print(faceDetected)\n",
    "        # print(faces[0].dtype)\n",
    "        cropped = img[y-margin//2:y+h+margin//2,\n",
    "                      x-margin//2:x+w+margin//2, :]\n",
    "        print(cropped.shape)\n",
    "        img = resize(cropped, (image_size, image_size), mode='reflect')\n",
    "    except Exception as e:\n",
    "        print(\"error in face detection\")\n",
    "        print(e)\n",
    "        img = resize(img, (image_size, image_size), mode='reflect')\n",
    "        faceDetected = False\n",
    "    #print(time.time()-t)\n",
    "    return img, faceDetected\n",
    "\n",
    "def prewhiten(x):\n",
    "        if x.ndim == 4:\n",
    "            axis = (1, 2, 3)\n",
    "            size = x[0].size\n",
    "        elif x.ndim == 3:\n",
    "            axis = (0, 1, 2)\n",
    "            size = x.size\n",
    "        else:\n",
    "            raise ValueError('Dimension should be 3 or 4')\n",
    "\n",
    "        mean = np.mean(x, axis=axis, keepdims=True)\n",
    "        std = np.std(x, axis=axis, keepdims=True)\n",
    "        std_adj = np.maximum(std, 1.0/np.sqrt(size))\n",
    "        y = (x - mean) / std_adj\n",
    "        return y\n",
    "\n",
    "def preprocess(images, margin=10, image_size=160, model_path='./cv2/haarcascade_frontalface_alt2.xml', face_extract_algo=face_extract_dnn):\n",
    "        try:\n",
    "            #t = time.time()\n",
    "            faceDetected = True\n",
    "            aligned_images = []\n",
    "            for img in images:\n",
    "                # print(filepath)\n",
    "                if type(img) is list:\n",
    "                    img = np.array(img)\n",
    "                img = to_rgb(img)\n",
    "                #print(\"Time till init...\")\n",
    "                #print(time.time() - t)\n",
    "                aligned = None#dlib_model.align(img)#align_face(img)\n",
    "                if aligned is None:\n",
    "                    #print(\"dlib couldn't find any face, using dnn...\")\n",
    "                    #print(type(aligned))\n",
    "                    #plt.imshow(img)\n",
    "                    #plt.show()\n",
    "                    #continue\n",
    "                    aligned = img\n",
    "                #print(\"Time till dlib align...\")\n",
    "                #print(time.time() - t)\n",
    "                _img, faceDetected = face_extract_dnn(aligned, margin, image_size = image_size)#face_extract_dnn(img, margin)\n",
    "                #print(\"Time till face extract...\")\n",
    "                #print(time.time() - t)\n",
    "                if faceDetected is False:\n",
    "                    print(\"No face detected\")\n",
    "                    print(type(aligned))\n",
    "                    plt.imshow(img)\n",
    "                    plt.show()\n",
    "                    continue\n",
    "                aligned_images.append(_img)\n",
    "            if len(aligned_images) == 0:\n",
    "                return images, False\n",
    "            #print(time.time() - t)\n",
    "            return np.array(aligned_images), faceDetected\n",
    "        except Exception as e:\n",
    "            print(\"Error in Preprocess \")\n",
    "            print(e)\n",
    "            return images, False"
   ]
  },
  {
   "cell_type": "code",
   "execution_count": 28,
   "metadata": {},
   "outputs": [],
   "source": [
    "\n",
    "def align_and_crop_face(image, desiredLeftEye=(0.35, 0.35), desiredFaceWidth = 160, desiredFaceHeight = 160):\n",
    "    t = time.time()\n",
    "    detection = mtcnn_model.detect_faces(img)[0]\n",
    "    confidence = detection['confidence']\n",
    "    if confidence <= 0.4:\n",
    "        print(\"No face found!\")\n",
    "        return None\n",
    "    (x1, y1) = detection['keypoints']['left_eye']\n",
    "    (x2, y2) = detection['keypoints']['right_eye']\n",
    "    (x, y, p, q) = detection['box']\n",
    "    dX = float(x2 - x1)\n",
    "    dY = float(y2 - y1)\n",
    "    angle = (math.atan(dY/dX)*180)/math.pi\n",
    "    dist = np.sqrt((dX ** 2) + (dY ** 2))\n",
    "    desiredRightEyeX = 1.0 - desiredLeftEye[0]\n",
    "    desiredDist = (desiredRightEyeX - desiredLeftEye[0])\n",
    "    desiredDist *= desiredFaceWidth\n",
    "    scale = desiredDist / dist\n",
    "    rotationCenter = ((x1 + x2) // 2, (y1 + y2) // 2)\n",
    "    M = cv2.getRotationMatrix2D(rotationCenter, angle, scale)\n",
    "    tX = desiredFaceWidth * 0.5\n",
    "    tY = desiredFaceHeight * desiredLeftEye[1]\n",
    "    M[0, 2] += (tX - rotationCenter[0])\n",
    "    M[1, 2] += (tY - rotationCenter[1])\n",
    "    # apply the affine transformation\n",
    "    (w, h) = (desiredFaceWidth, desiredFaceHeight)\n",
    "    output = cv2.warpAffine(image, M, (w, h), flags=cv2.INTER_CUBIC)\n",
    "    #print(time.time()-t)\n",
    "    return output\n",
    "\n",
    "def align_face(image):\n",
    "    t = time.time()\n",
    "    try:\n",
    "        detection = mtcnn_model.detect_faces(image)[0]\n",
    "        confidence = detection['confidence']\n",
    "        if confidence <= 0.4:\n",
    "            print(\"No face found!\")\n",
    "            return image, False\n",
    "        (x1, y1) = detection['keypoints']['left_eye']\n",
    "        (x2, y2) = detection['keypoints']['right_eye']\n",
    "        (x, y, p, q) = detection['box']\n",
    "        dX = float(x2 - x1)\n",
    "        dY = float(y2 - y1)\n",
    "        angle = (math.atan(dY/dX)*180)/math.pi\n",
    "        return (rotate_image(image, angle)*255).astype('uint8'), True\n",
    "    except Exception as e:\n",
    "        print(\"Alignment failed\")\n",
    "        print(e)\n",
    "        return image, False\n",
    "\n",
    "def rotate_image_scalfree(img, angle):\n",
    "    rotationCenter = img.shape[0]/2, img.shape[1]/2\n",
    "    M = cv2.getRotationMatrix2D(rotationCenter, angle, 1)\n",
    "    tX = 160 * 0.5\n",
    "    tY = 160 * 0.5#desiredLeftEye[1]\n",
    "    M[0, 2] += (tX - rotationCenter[0])\n",
    "    M[1, 2] += (tY - rotationCenter[1])\n",
    "    # apply the affine transformation\n",
    "    (w, h) = (160, 160)\n",
    "    output = cv2.warpAffine(img, M, (w, h), flags=cv2.INTER_CUBIC)\n",
    "    return output\n",
    "    "
   ]
  },
  {
   "cell_type": "code",
   "execution_count": 9,
   "metadata": {},
   "outputs": [],
   "source": [
    "cv2.destroyAllWindows()\n",
    "import dlib\n",
    "INNER_EYES_AND_BOTTOM_LIP = [3, 1, 4]"
   ]
  },
  {
   "cell_type": "code",
   "execution_count": 26,
   "metadata": {
    "scrolled": true
   },
   "outputs": [
    {
     "data": {
      "image/png": "[encoded data removed]",
      "text/plain": [
       "<Figure size 432x288 with 1 Axes>"
      ]
     },
     "metadata": {
      "needs_background": "light"
     },
     "output_type": "display_data"
    },
    {
     "name": "stdout",
     "output_type": "stream",
     "text": [
      "None\n",
      "[(0, 0) (150, 150)]\n",
      "0.016511201858520508\n"
     ]
    },
    {
     "data": {
      "image/png": "[encoded data removed]",
      "text/plain": [
       "<Figure size 432x288 with 1 Axes>"
      ]
     },
     "metadata": {
      "needs_background": "light"
     },
     "output_type": "display_data"
    },
    {
     "data": {
      "image/png": "[encoded data removed]",
      "text/plain": [
       "<Figure size 432x288 with 1 Axes>"
      ]
     },
     "metadata": {
      "needs_background": "light"
     },
     "output_type": "display_data"
    }
   ],
   "source": [
    "#\n",
    "\n",
    "#img = to_rgb(imread('images/Train/Harendra/Harendra.png'))\n",
    "#img = to_rgb(imread('images/Train/Davinder/Davinder.1.jpg'))\n",
    "img = to_rgb(cv2.imread('images/Train/Harendra/Harendra.png'))\n",
    "plt.imshow(img)\n",
    "plt.show()\n",
    "t = time.time()\n",
    "#print(time.time() - t)\n",
    "bb = dlib_model.getLargestFaceBoundingBox(img)\n",
    "print(bb)\n",
    "bb = dlib.rectangle(0, 0, 150, 150)\n",
    "print(bb)\n",
    "#print(time.time() - t)\n",
    "landmarks = dlib_model.predictor(img, bb)\n",
    "#print(time.time() - t)\n",
    "#npLandmarks = np.float32(landmarks)\n",
    "#npLandmarkIndices = np.array(INNER_EYES_AND_BOTTOM_LIP)\n",
    "#x, y, w, h = face_utils.rect_to_bb(bb)\n",
    "\n",
    "scale = 1.0\n",
    "imgDim = 150\n",
    "#H = cv2.getAffineTransform(npLandmarks[npLandmarkIndices], imgDim * MINMAX_TEMPLATE[npLandmarkIndices]*scale + imgDim*(1-scale)/2)\n",
    "#thumbnail = cv2.warpAffine(img, H, (imgDim, imgDim))\n",
    "#faces = dlib.full_object_detections()\n",
    "#faces.append(landmarks)\n",
    "#print(faces)\n",
    "thumbnail = dlib.get_face_chip(img, landmarks)\n",
    "#print(time.time() - t)\n",
    "\n",
    "#print(\"Just align\")\n",
    "#t = time.time()\n",
    "#ff = dlib_model.align(img)\n",
    "#print(time.time() - t)\n",
    "\n",
    "#cv2.rectangle(img, (x, y), (x + w, y + h), (0, 255, 0), 1)\n",
    "color = [(255,255,255), (255,255,255), (255, 255, 255), (0, 255, 0), (0, 0, 255)]\n",
    "landmarks = [(p.x, p.y) for p in landmarks.parts()]\n",
    "for (i, (x, y)) in enumerate(landmarks):\n",
    "    cv2.circle(img, (x, y), 1, color[i], -1)\n",
    "plt.imshow(img)\n",
    "plt.show()\n",
    "\n",
    "\n",
    "#bb = dlib_model.getLargestFaceBoundingBox(thumbnail)\n",
    "#x, y, w, h = face_utils.rect_to_bb(bb)\n",
    "#cv2.rectangle(thumbnail, (x, y), (x + w, y + h), (0, 255, 0), 1)\n",
    "\n",
    "plt.imshow(thumbnail)\n",
    "plt.show()"
   ]
  },
  {
   "cell_type": "code",
   "execution_count": 22,
   "metadata": {},
   "outputs": [
    {
     "name": "stdout",
     "output_type": "stream",
     "text": [
      "(1, 112, 112, 3)\n"
     ]
    },
    {
     "data": {
      "text/plain": [
       "<matplotlib.image.AxesImage at 0x7fefc84fc978>"
      ]
     },
     "execution_count": 22,
     "metadata": {},
     "output_type": "execute_result"
    },
    {
     "data": {
      "image/png": "[encoded data removed]",
      "text/plain": [
       "<Figure size 432x288 with 1 Axes>"
      ]
     },
     "metadata": {
      "needs_background": "light"
     },
     "output_type": "display_data"
    }
   ],
   "source": [
    "img = to_rgb(imread('images/Train/Suresh/Suresh3.png'))\n",
    "face, status = preprocess([img])#dlib_model.align(img)#face_extract_dnn(align_face((rotate_image(img, 0)*255).astype('uint8')))\n",
    "print(face.shape)\n",
    "plt.imshow(face[0])"
   ]
  },
  {
   "cell_type": "code",
   "execution_count": 13,
   "metadata": {},
   "outputs": [],
   "source": [
    "ctx = mx.gpu(0)\n",
    "sym, arg_params, aux_params = mx.model.load_checkpoint('./models/arcface', 0)\n",
    "all_layers = sym.get_internals()\n",
    "sym = all_layers['fc1_output']\n",
    "model = mx.mod.Module(symbol=sym, context=ctx, label_names = None)\n",
    "model.bind(data_shapes=[('data', (1, 3, 112, 112))])\n",
    "model.set_params(arg_params, aux_params)"
   ]
  },
  {
   "cell_type": "code",
   "execution_count": 51,
   "metadata": {},
   "outputs": [
    {
     "name": "stdout",
     "output_type": "stream",
     "text": [
      "init...\n",
      "0.0003497600555419922\n",
      "(1, 3, 112, 112)\n",
      "data processing...\n",
      "0.0012593269348144531\n",
      "forward...\n",
      "0.0021483898162841797\n",
      "output...\n",
      "0.05681347846984863\n",
      "normalize...\n",
      "0.057111501693725586\n"
     ]
    }
   ],
   "source": [
    "t = time.time()\n",
    "face_img = np.array(face[0])\n",
    "if face_img.dtype != 'uint8':\n",
    "    nimg = (face_img*255).astype('uint8')\n",
    "else:\n",
    "    nimg = face_img\n",
    "print(\"init...\")\n",
    "print(time.time()-t)\n",
    "#nimg = cv2.cvtColor(nimg, cv2.COLOR_BGR2RGB)\n",
    "aligned = np.transpose(nimg, (2,0,1))\n",
    "input_blob = np.expand_dims(aligned, axis=0)\n",
    "print(input_blob.shape)\n",
    "data = mx.nd.array(input_blob)\n",
    "db = mx.io.DataBatch(data=(data,))\n",
    "print(\"data processing...\")\n",
    "print(time.time()-t)\n",
    "model.forward(db, is_train=False)\n",
    "print(\"forward...\")\n",
    "print(time.time()-t)\n",
    "embedding = model.get_outputs()[0].asnumpy()\n",
    "print(\"output...\")\n",
    "print(time.time()-t)\n",
    "embedding = sklearn.preprocessing.normalize(embedding).flatten()\n",
    "print(\"normalize...\")\n",
    "print(time.time()-t)"
   ]
  },
  {
   "cell_type": "code",
   "execution_count": 7,
   "metadata": {},
   "outputs": [],
   "source": [
    "def embed(images, preprocess=False):\n",
    "        try:\n",
    "            #t = time.time()\n",
    "            status = True\n",
    "            if preprocess is True:\n",
    "                images, status = preprocess(images, 10)\n",
    "            emb = l2_normalize(coreModel.predict(images))\n",
    "            return np.array(emb), status\n",
    "        except Exception as e:\n",
    "            print(\"Error in AIengine.embed\")\n",
    "            print(e)\n",
    "        return None, False"
   ]
  },
  {
   "cell_type": "code",
   "execution_count": 8,
   "metadata": {},
   "outputs": [],
   "source": [
    "notDetected = list()\n",
    "def loadRawOrderedData(dir_basepath, margin=10, augment_size = 0):\n",
    "    names = os.listdir(dir_basepath)\n",
    "    imgs = []\n",
    "    labels = []\n",
    "    nameDict = dict()\n",
    "    for i in names:\n",
    "        nameDict[hash(i)] = i\n",
    "    for name in names:\n",
    "        dirpath = os.path.abspath(dir_basepath + name)\n",
    "        filepaths = [os.path.join(dirpath, f) for f in os.listdir(dirpath)]\n",
    "        for i in filepaths:\n",
    "            _img = imread(i)\n",
    "            imgs_, status = preprocess([_img], margin) \n",
    "            if status is False:\n",
    "                #imgs_, status = AIengine.preprocess([imread(i)], cascade_path = './cv2/lbpcascade_profileface.xml') \n",
    "                if status is False:\n",
    "                    print(\"No face detected in \" + i)\n",
    "                    notDetected.append(imgs_)\n",
    "                    continue\n",
    "                else: \n",
    "                    print(\"Detected hard image \" + i)\n",
    "            imgs.append(imgs_)\n",
    "            labels.append(name)\n",
    "            for j in range(0, augment_size):\n",
    "                tmp = random_rotate_image(_img)\n",
    "                im, status = preprocess([tmp], margin) \n",
    "                if status is not False:\n",
    "                    imgs.append(im)\n",
    "                    labels.append(name)\n",
    "                else:\n",
    "                    notDetected.append(im)\n",
    "                    print(\"No face detected\")\n",
    "            # Augmented Data\n",
    "        #labels.extend([name] * len(imgs_))\n",
    "        #imgs.append(imgs_)\n",
    "    imgs = np.concatenate(imgs)\n",
    "    return imgs, labels, nameDict\n",
    "\n",
    "\n",
    "def loadRawTestData(filepaths):\n",
    "    imgs = [np.array(imread(i)) for i in filepaths]\n",
    "    return np.array(imgs)"
   ]
  },
  {
   "cell_type": "code",
   "execution_count": 9,
   "metadata": {},
   "outputs": [],
   "source": [
    "def loadRawYalesData(filepath):\n",
    "    imgs = [np.array(imread(filepath + i)) for i in os.listdir(filepath)] \n",
    "    return np.array(imgs)"
   ]
  },
  {
   "cell_type": "code",
   "execution_count": 11,
   "metadata": {},
   "outputs": [],
   "source": [
    "\n",
    "def validateSimilarity(uvecs, vec, k = 0.65):\n",
    "    # Returns true if vec is similar to atleast 'k' fraction of vectors\n",
    "    frac = round(k*len(uvecs))\n",
    "    #results = [i for i in face_recognition.compare_faces(uvecs, vec) if i is True]#[np.linalg.norm(vec - i) for i in uvecs if np.linalg.norm(vec - i) <= 0.88]#distance.euclidean(i, vec) <= 0.88]\n",
    "    #results = [np.linalg.norm(vec - i) for i in uvecs if np.linalg.norm(vec - i) <= 0.80]\n",
    "    results = [distance.cosine(i, vec) for i in uvecs if distance.cosine(i, vec) <= 0.8]\n",
    "    #print(results)\n",
    "    print(\"Similar to \" + str(len(results)) + \" Photos of the person out of \" + str(len(uvecs)))\n",
    "    #print(results)\n",
    "    #print([distance.cosine(i, vec) for i in uvecs])\n",
    "    if len(results) >= frac:\n",
    "        return True \n",
    "    print([distance.cosine(i, vec) for i in uvecs])\n",
    "    return False\n",
    "\n"
   ]
  },
  {
   "cell_type": "code",
   "execution_count": 12,
   "metadata": {},
   "outputs": [],
   "source": [
    "cascade_path = './cv2/haarcascade_frontalface_alt2.xml'\n",
    "image_dir_basepath = './images/'\n",
    "\n",
    "train_dirpath = os.path.join(image_dir_basepath, 'Train/')\n",
    "\n",
    "image_size = 160"
   ]
  },
  {
   "cell_type": "code",
   "execution_count": 40,
   "metadata": {},
   "outputs": [],
   "source": [
    "# Load Raw Data\n",
    "imgs, labels, nameDict = loadRawOrderedData(train_dirpath, augment_size=0)"
   ]
  },
  {
   "cell_type": "code",
   "execution_count": 41,
   "metadata": {},
   "outputs": [
    {
     "data": {
      "text/plain": [
       "(298, 112, 112, 3)"
      ]
     },
     "execution_count": 41,
     "metadata": {},
     "output_type": "execute_result"
    }
   ],
   "source": [
    "imgs.shape"
   ]
  },
  {
   "cell_type": "code",
   "execution_count": 42,
   "metadata": {},
   "outputs": [],
   "source": [
    "metadata = {'labelEncodeMap': {value: key for key,\n",
    "                                       value in nameDict.items()}, 'labelDecodeMap': nameDict,\n",
    "                         'imagesize': 160, 'similarity_margin': 10}\n",
    "import pickle\n",
    "f = open('./models/Customs/model_arcface_noalign_stranger.meta', 'wb')\n",
    "f.write(pickle.dumps(metadata))\n",
    "f.close()"
   ]
  },
  {
   "cell_type": "code",
   "execution_count": 43,
   "metadata": {},
   "outputs": [],
   "source": [
    "imgs = (imgs*255).astype('uint8')"
   ]
  },
  {
   "cell_type": "code",
   "execution_count": 44,
   "metadata": {},
   "outputs": [
    {
     "data": {
      "text/plain": [
       "(3, 512)"
      ]
     },
     "execution_count": 44,
     "metadata": {},
     "output_type": "execute_result"
    }
   ],
   "source": [
    "embed(imgs[:3])[0].shape"
   ]
  },
  {
   "cell_type": "code",
   "execution_count": 45,
   "metadata": {},
   "outputs": [],
   "source": [
    "# Get Embeddings from the Data\n",
    "embs, status = embed(imgs, preprocess = False)\n",
    "\n",
    "X = np.array(embs)\n",
    "Y = np.array([hash(i) for i in labels])\n",
    "#X, test_x, Y, test_y = train_test_split(X,Y,test_size=0.00000001)\n",
    "X, Y = shuffle(X, Y)"
   ]
  },
  {
   "cell_type": "code",
   "execution_count": 46,
   "metadata": {},
   "outputs": [
    {
     "name": "stdout",
     "output_type": "stream",
     "text": [
      "(298,)\n"
     ]
    },
    {
     "data": {
      "text/plain": [
       "(298, 512)"
      ]
     },
     "execution_count": 46,
     "metadata": {},
     "output_type": "execute_result"
    }
   ],
   "source": [
    "print(Y.shape)\n",
    "X.shape"
   ]
  },
  {
   "cell_type": "code",
   "execution_count": 20,
   "metadata": {},
   "outputs": [
    {
     "data": {
      "text/plain": [
       "(298,)"
      ]
     },
     "execution_count": 20,
     "metadata": {},
     "output_type": "execute_result"
    }
   ],
   "source": [
    "Y.shape"
   ]
  },
  {
   "cell_type": "code",
   "execution_count": 47,
   "metadata": {},
   "outputs": [],
   "source": [
    "# Create grouped object\n",
    "vecDict = dict()\n",
    "for i in labels:\n",
    "    vecDict[i] = list()\n",
    "for i in range(0, len(labels)):\n",
    "    vecDict[labels[i]].append(embs[i])"
   ]
  },
  {
   "cell_type": "code",
   "execution_count": 48,
   "metadata": {},
   "outputs": [],
   "source": [
    "# Save to JSON Document\n",
    "import pickle\n",
    "f = open('./models/Customs/vectormaps_arcface_noalign_stranger.json', 'wb')\n",
    "f.write(pickle.dumps(vecDict))\n",
    "f.close()"
   ]
  },
  {
   "cell_type": "code",
   "execution_count": 49,
   "metadata": {},
   "outputs": [],
   "source": [
    "# Our Classifier\n",
    "from sklearn.neighbors import KNeighborsClassifier\n",
    "from sklearn.svm import SVC\n",
    "from sklearn.neural_network import MLPClassifier\n",
    "from sklearn.ensemble import RandomForestClassifier\n",
    "\n",
    "#classifier = SVC(kernel='linear', probability=True)#\n",
    "#classifier = RandomForestClassifier()\n",
    "classifier = MLPClassifier()\n",
    "#classifier = KNeighborsClassifier()"
   ]
  },
  {
   "cell_type": "code",
   "execution_count": 50,
   "metadata": {},
   "outputs": [
    {
     "name": "stderr",
     "output_type": "stream",
     "text": [
      "/usr/local/lib/python3.7/dist-packages/sklearn/neural_network/multilayer_perceptron.py:566: ConvergenceWarning: Stochastic Optimizer: Maximum iterations (200) reached and the optimization hasn't converged yet.\n",
      "  % self.max_iter, ConvergenceWarning)\n"
     ]
    },
    {
     "data": {
      "text/plain": [
       "MLPClassifier(activation='relu', alpha=0.0001, batch_size='auto', beta_1=0.9,\n",
       "              beta_2=0.999, early_stopping=False, epsilon=1e-08,\n",
       "              hidden_layer_sizes=(100,), learning_rate='constant',\n",
       "              learning_rate_init=0.001, max_iter=200, momentum=0.9,\n",
       "              n_iter_no_change=10, nesterovs_momentum=True, power_t=0.5,\n",
       "              random_state=None, shuffle=True, solver='adam', tol=0.0001,\n",
       "              validation_fraction=0.1, verbose=False, warm_start=False)"
      ]
     },
     "execution_count": 50,
     "metadata": {},
     "output_type": "execute_result"
    }
   ],
   "source": [
    "classifier.fit(X, Y)"
   ]
  },
  {
   "cell_type": "code",
   "execution_count": 51,
   "metadata": {},
   "outputs": [
    {
     "data": {
      "text/plain": [
       "53"
      ]
     },
     "execution_count": 51,
     "metadata": {},
     "output_type": "execute_result"
    }
   ],
   "source": [
    "test_dirpath = os.path.join(image_dir_basepath, 'Test')\n",
    "test_names = os.listdir(test_dirpath)\n",
    "test_filepaths = [os.path.join(test_dirpath, f) for f in test_names]\n",
    "test_labels = [i.split('.')[0] for i in test_names]\n",
    "test_imgs = loadRawTestData(test_filepaths)\n",
    "len(test_labels)"
   ]
  },
  {
   "cell_type": "code",
   "execution_count": 52,
   "metadata": {},
   "outputs": [
    {
     "data": {
      "text/plain": [
       "(53, 112, 112, 3)"
      ]
     },
     "execution_count": 52,
     "metadata": {},
     "output_type": "execute_result"
    }
   ],
   "source": [
    "test_pre, status = preprocess(test_imgs)\n",
    "test_vec, status = embed(test_pre, preprocess=False)\n",
    "#print(test_vec)\n",
    "test_pre.shape\n"
   ]
  },
  {
   "cell_type": "code",
   "execution_count": 53,
   "metadata": {},
   "outputs": [
    {
     "name": "stdout",
     "output_type": "stream",
     "text": [
      "('Davinder', 'Davinder')\n",
      "('Abhishek', 'Abhishek')\n",
      "('Nikhil', 'Nikhil')\n",
      "('Nikhil', 'Nikhil')\n",
      "('Ashish', 'Ashish')\n",
      "('Neha', 'Neha')\n",
      "('Santosh', 'Santosh')\n",
      "('Santosh', 'Santosh')\n",
      "('Abhishek', 'Abhishek')\n",
      "('Suresh', 'Suresh')\n",
      "('Davinder', 'Davinder')\n",
      "('Santosh', 'Santosh')\n",
      "('LarryPage', 'LarryPage')\n",
      "('AnthonyHopkins', 'AnthonyHopkins')\n",
      "('Sonali', 'Sonali')\n",
      "('Davinder', 'Davinder')\n",
      "('CPSingh', 'CPSingh')\n",
      "('Surya', 'Surya')\n",
      "('Dushyant', 'Dushyant')\n",
      "('Harendra', 'Harendra')\n",
      "('Davinder', 'Davinder')\n",
      "('Davinder', 'Davinder')\n",
      "('CPSingh', 'CPSingh')\n",
      "('Ajuna', 'Stranger')\n",
      "('Harendra', 'Harendra')\n",
      "('Stranger', 'Stranger')\n",
      "('Stranger', 'Stranger')\n",
      "('Nikhil', 'Nikhil')\n",
      "('Stranger', 'Stranger')\n",
      "('Dushyant', 'Dushyant')\n",
      "('Santosh', 'Santosh')\n",
      "('MarkZuckerberg', 'MarkZuckerberg')\n",
      "('Surya', 'Ashish')\n",
      "('Nagesh', 'Nagesh')\n",
      "('Aayushi', 'Aayushi')\n",
      "('Pankaj', 'Pankaj')\n",
      "('CPSingh', 'CPSingh')\n",
      "('Jyoti', 'Jyoti')\n",
      "('BillGates', 'BillGates')\n",
      "('Davinder', 'Nagesh')\n",
      "('Dushyant', 'Dushyant')\n",
      "('Ashish', 'Ashish')\n",
      "('Santosh', 'Santosh')\n",
      "('Stranger', 'Stranger')\n",
      "('Surya', 'Surya')\n",
      "('Nagesh', 'Nagesh')\n",
      "('Stranger', 'Stranger')\n",
      "('CPSingh', 'CPSingh')\n",
      "('Nikhil', 'Nikhil')\n",
      "('Nagesh', 'Nagesh')\n",
      "('Neha', 'Neha')\n",
      "('Sonali', 'Sonali')\n",
      "('Harvinder', 'Harvinder')\n"
     ]
    }
   ],
   "source": [
    "pred = classifier.predict(test_vec)#infer(classifier, test_filepaths)\n",
    "results = [(nameDict[i],j) for i,j in zip(pred,test_labels)]\n",
    "#print(results)\n",
    "pred_labels = [i[0] for i in results]\n",
    "for i in results:\n",
    "    print(i)"
   ]
  },
  {
   "cell_type": "code",
   "execution_count": 54,
   "metadata": {},
   "outputs": [
    {
     "name": "stdout",
     "output_type": "stream",
     "text": [
      "FOUND\n",
      "('Ajuna', 'Stranger')\n",
      "FOUND\n",
      "('Surya', 'Ashish')\n",
      "FOUND\n",
      "('Davinder', 'Nagesh')\n"
     ]
    }
   ],
   "source": [
    "for i in results:\n",
    "    if i[0] != i[1]:\n",
    "        print(\"FOUND\")\n",
    "        print(i)"
   ]
  },
  {
   "cell_type": "code",
   "execution_count": 29,
   "metadata": {},
   "outputs": [
    {
     "name": "stdout",
     "output_type": "stream",
     "text": [
      "[[1 0 0 0 0 0 0 0 0 0 0 0 0 0 0 0 0 0 0 0 0 0]\n",
      " [0 2 0 0 0 0 0 0 0 0 0 0 0 0 0 0 0 0 0 0 0 0]\n",
      " [0 0 1 0 0 0 0 0 0 0 0 0 0 0 0 0 0 0 0 0 0 0]\n",
      " [0 0 0 3 0 0 0 0 0 0 0 0 0 0 0 0 0 0 0 0 0 0]\n",
      " [0 0 0 0 1 0 0 0 0 0 0 0 0 0 0 0 0 0 0 0 0 0]\n",
      " [0 0 0 0 0 4 0 0 0 0 0 0 0 0 0 0 0 0 0 0 0 0]\n",
      " [0 0 0 0 0 0 5 0 0 0 0 0 0 0 0 0 0 0 0 0 0 0]\n",
      " [0 0 0 0 0 0 0 3 0 0 0 0 0 0 0 0 0 0 0 0 0 0]\n",
      " [0 0 0 0 0 0 0 0 2 0 0 0 0 0 0 0 0 0 0 0 0 0]\n",
      " [0 0 0 0 0 0 0 0 0 1 0 0 0 0 0 0 0 0 0 0 0 0]\n",
      " [0 0 0 0 0 0 0 0 0 0 1 0 0 0 0 0 0 0 0 0 0 0]\n",
      " [0 0 0 0 0 0 0 0 0 0 0 1 0 0 0 0 0 0 0 0 0 0]\n",
      " [0 0 0 0 0 0 0 0 0 0 0 0 1 0 0 0 0 0 0 0 0 0]\n",
      " [0 0 0 0 0 0 0 0 0 0 0 0 0 4 0 0 0 0 0 0 0 0]\n",
      " [0 0 0 0 0 0 0 0 0 0 0 0 0 0 2 0 0 0 0 0 0 0]\n",
      " [0 0 0 0 0 0 0 0 0 0 0 0 0 0 0 4 0 0 0 0 0 0]\n",
      " [0 0 0 0 0 0 0 0 0 0 0 0 0 0 0 0 1 0 0 0 0 0]\n",
      " [0 0 0 0 0 0 0 0 0 0 0 0 0 0 0 0 0 5 0 0 0 0]\n",
      " [0 0 0 0 0 0 0 0 0 0 0 0 0 0 0 0 0 0 2 0 0 0]\n",
      " [0 0 0 0 0 0 0 0 0 0 0 0 0 0 0 0 0 0 0 6 0 0]\n",
      " [0 0 0 0 0 0 0 0 0 0 0 0 0 0 0 0 0 0 0 0 1 0]\n",
      " [0 0 0 0 0 0 0 0 0 0 0 0 0 0 0 0 0 0 0 0 0 2]]\n"
     ]
    },
    {
     "data": {
      "image/png": "[encoded data removed]",
      "text/plain": [
       "<Figure size 432x288 with 2 Axes>"
      ]
     },
     "metadata": {
      "needs_background": "light"
     },
     "output_type": "display_data"
    }
   ],
   "source": [
    "cm = sklearn.metrics.confusion_matrix(test_labels, pred_labels)\n",
    "print(cm)\n",
    "#cm = [i/sum(i) for i in cm]\n",
    "\n",
    "\n",
    "fig, ax = plot_confusion_matrix(conf_mat=cm,\n",
    "                                colorbar=True,\n",
    "                                show_absolute=False,\n",
    "                                show_normed=True)\n",
    "plt.show()"
   ]
  },
  {
   "cell_type": "code",
   "execution_count": 30,
   "metadata": {},
   "outputs": [
    {
     "data": {
      "text/plain": [
       "1.0"
      ]
     },
     "execution_count": 30,
     "metadata": {},
     "output_type": "execute_result"
    }
   ],
   "source": [
    "sklearn.metrics.accuracy_score(test_labels, pred_labels)"
   ]
  },
  {
   "cell_type": "code",
   "execution_count": 31,
   "metadata": {},
   "outputs": [],
   "source": [
    "# Save the model\n",
    "f = open('./models/Customs/model_arcface_align_mlp_stranger.pkl', 'wb')\n",
    "f.write(pickle.dumps(classifier))\n",
    "f.close()"
   ]
  },
  {
   "cell_type": "code",
   "execution_count": 32,
   "metadata": {},
   "outputs": [],
   "source": [
    "# Check the effectiveness of Similarity matching\n",
    "# We use yale dataset as a source of 'stranger' photos. Lets see what happens\n",
    " \n",
    "yales_imgs = loadRawYalesData('./images/validate/')\n",
    "yales_pre, status = preprocess(yales_imgs)\n",
    "yales_labels = ['Stranger'] * len(yales_pre)\n",
    "yales_embs, status = embed(yales_pre, preprocess=False)"
   ]
  },
  {
   "cell_type": "code",
   "execution_count": 33,
   "metadata": {},
   "outputs": [
    {
     "name": "stdout",
     "output_type": "stream",
     "text": [
      "(166, 512)\n",
      "(53, 512)\n",
      "166\n"
     ]
    }
   ],
   "source": [
    "print(yales_embs.shape)\n",
    "print(test_vec.shape)\n",
    "print(len(yales_labels))"
   ]
  },
  {
   "cell_type": "code",
   "execution_count": 36,
   "metadata": {},
   "outputs": [
    {
     "name": "stdout",
     "output_type": "stream",
     "text": [
      "Davinder\n",
      "Similar to 7 Photos of the person out of 7\n",
      "Abhishek\n",
      "Similar to 8 Photos of the person out of 9\n",
      "Nikhil\n",
      "Similar to 6 Photos of the person out of 7\n",
      "Nikhil\n",
      "Similar to 6 Photos of the person out of 7\n",
      "Ashish\n",
      "Similar to 6 Photos of the person out of 6\n",
      "Neha\n",
      "Similar to 8 Photos of the person out of 10\n",
      "Santosh\n",
      "Similar to 7 Photos of the person out of 8\n",
      "Santosh\n",
      "Similar to 7 Photos of the person out of 8\n",
      "Abhishek\n",
      "Similar to 7 Photos of the person out of 9\n",
      "Suresh\n",
      "Similar to 4 Photos of the person out of 4\n",
      "Davinder\n",
      "Similar to 7 Photos of the person out of 7\n",
      "Santosh\n",
      "Similar to 7 Photos of the person out of 8\n",
      "LarryPage\n",
      "Similar to 2 Photos of the person out of 3\n",
      "AnthonyHopkins\n",
      "Similar to 2 Photos of the person out of 2\n",
      "Sonali\n",
      "Similar to 9 Photos of the person out of 9\n",
      "Davinder\n",
      "Similar to 7 Photos of the person out of 7\n",
      "CPSingh\n",
      "Similar to 10 Photos of the person out of 11\n",
      "Surya\n",
      "Similar to 8 Photos of the person out of 9\n",
      "Dushyant\n",
      "Similar to 8 Photos of the person out of 9\n",
      "Harendra\n",
      "Similar to 9 Photos of the person out of 10\n",
      "Davinder\n",
      "Similar to 7 Photos of the person out of 7\n",
      "Davinder\n",
      "Similar to 4 Photos of the person out of 7\n",
      "[0.9215869307518005, 0.8847762495279312, 0.7503204494714737, 0.643005758523941, 0.5813393294811249, 0.9032700657844543, 0.43686050176620483]\n",
      "Person Davinder Not Verified\n",
      "CPSingh\n",
      "Similar to 8 Photos of the person out of 11\n",
      "Harendra\n",
      "Similar to 9 Photos of the person out of 10\n",
      "Nikhil\n",
      "Similar to 6 Photos of the person out of 7\n",
      "Dushyant\n",
      "Similar to 8 Photos of the person out of 9\n",
      "Santosh\n",
      "Similar to 7 Photos of the person out of 8\n",
      "MarkZuckerberg\n",
      "Similar to 3 Photos of the person out of 3\n",
      "Ashish\n",
      "Similar to 6 Photos of the person out of 6\n",
      "Nagesh\n",
      "Similar to 8 Photos of the person out of 8\n",
      "Aayushi\n",
      "Similar to 9 Photos of the person out of 10\n",
      "Pankaj\n",
      "Similar to 4 Photos of the person out of 4\n",
      "CPSingh\n",
      "Similar to 8 Photos of the person out of 11\n",
      "Jyoti\n",
      "Similar to 5 Photos of the person out of 5\n",
      "BillGates\n",
      "Similar to 3 Photos of the person out of 3\n",
      "Nagesh\n",
      "Similar to 6 Photos of the person out of 8\n",
      "Dushyant\n",
      "Similar to 9 Photos of the person out of 9\n",
      "Ashish\n",
      "Similar to 6 Photos of the person out of 6\n",
      "Santosh\n",
      "Similar to 5 Photos of the person out of 8\n",
      "Surya\n",
      "Similar to 8 Photos of the person out of 9\n",
      "Nagesh\n",
      "Similar to 8 Photos of the person out of 8\n",
      "CPSingh\n",
      "Similar to 8 Photos of the person out of 11\n",
      "Nikhil\n",
      "Similar to 6 Photos of the person out of 7\n",
      "Nagesh\n",
      "Similar to 8 Photos of the person out of 8\n",
      "Neha\n",
      "Similar to 8 Photos of the person out of 10\n",
      "Sonali\n",
      "Similar to 8 Photos of the person out of 9\n",
      "Harvinder\n",
      "Similar to 4 Photos of the person out of 6\n"
     ]
    }
   ],
   "source": [
    "val_embs = np.concatenate([yales_embs, test_vec])\n",
    "val_labels = np.concatenate([yales_labels, test_labels])\n",
    "pred_labels = list()\n",
    "for i in val_embs:\n",
    "    name = nameDict[classifier.predict([i])[0]]\n",
    "    uvecs = vecDict[name]\n",
    "    if name != 'Stranger':\n",
    "        print(name)\n",
    "        val = validateSimilarity(uvecs, i)\n",
    "        if val is True:\n",
    "            pred_labels.append(name)\n",
    "        else:\n",
    "            print(\"Person \" + name + \" Not Verified\")\n",
    "            pred_labels.append('Stranger')\n",
    "    else:\n",
    "        pred_labels.append('Stranger')\n",
    "        \n",
    "results = [(i,j) for i,j in zip(pred_labels,val_labels)]"
   ]
  },
  {
   "cell_type": "code",
   "execution_count": 37,
   "metadata": {},
   "outputs": [
    {
     "name": "stdout",
     "output_type": "stream",
     "text": [
      "['Stranger', 'Stranger', 'Stranger', 'Stranger', 'Stranger', 'Stranger', 'Stranger', 'Stranger', 'Stranger', 'Stranger', 'Stranger', 'Stranger', 'Stranger', 'Stranger', 'Stranger', 'Stranger', 'Stranger', 'Stranger', 'Stranger', 'Stranger', 'Stranger', 'Stranger', 'Stranger', 'Stranger', 'Stranger', 'Stranger', 'Stranger', 'Stranger', 'Stranger', 'Stranger', 'Stranger', 'Stranger', 'Stranger', 'Stranger', 'Stranger', 'Stranger', 'Stranger', 'Stranger', 'Stranger', 'Stranger', 'Stranger', 'Stranger', 'Stranger', 'Stranger', 'Stranger', 'Stranger', 'Stranger', 'Stranger', 'Stranger', 'Stranger', 'Stranger', 'Stranger', 'Stranger', 'Stranger', 'Stranger', 'Stranger', 'Stranger', 'Stranger', 'Stranger', 'Stranger', 'Stranger', 'Stranger', 'Stranger', 'Stranger', 'Stranger', 'Stranger', 'Stranger', 'Stranger', 'Stranger', 'Stranger', 'Stranger', 'Stranger', 'Stranger', 'Stranger', 'Stranger', 'Stranger', 'Stranger', 'Stranger', 'Stranger', 'Stranger', 'Stranger', 'Stranger', 'Stranger', 'Stranger', 'Stranger', 'Stranger', 'Stranger', 'Stranger', 'Stranger', 'Stranger', 'Stranger', 'Stranger', 'Stranger', 'Stranger', 'Stranger', 'Stranger', 'Stranger', 'Stranger', 'Stranger', 'Stranger', 'Stranger', 'Stranger', 'Stranger', 'Stranger', 'Stranger', 'Stranger', 'Stranger', 'Stranger', 'Stranger', 'Stranger', 'Stranger', 'Stranger', 'Stranger', 'Stranger', 'Stranger', 'Stranger', 'Stranger', 'Stranger', 'Stranger', 'Stranger', 'Stranger', 'Stranger', 'Stranger', 'Stranger', 'Stranger', 'Stranger', 'Stranger', 'Stranger', 'Stranger', 'Stranger', 'Stranger', 'Stranger', 'Stranger', 'Stranger', 'Stranger', 'Stranger', 'Stranger', 'Stranger', 'Stranger', 'Stranger', 'Stranger', 'Stranger', 'Stranger', 'Stranger', 'Stranger', 'Stranger', 'Stranger', 'Stranger', 'Stranger', 'Stranger', 'Stranger', 'Stranger', 'Stranger', 'Stranger', 'Stranger', 'Stranger', 'Stranger', 'Stranger', 'Stranger', 'Stranger', 'Stranger', 'Stranger', 'Stranger', 'Stranger', 'Stranger', 'Stranger', 'Davinder', 'Abhishek', 'Nikhil', 'Nikhil', 'Ashish', 'Neha', 'Santosh', 'Santosh', 'Abhishek', 'Suresh', 'Davinder', 'Santosh', 'LarryPage', 'AnthonyHopkins', 'Sonali', 'Davinder', 'CPSingh', 'Surya', 'Dushyant', 'Harendra', 'Davinder', 'Stranger', 'CPSingh', 'Stranger', 'Harendra', 'Stranger', 'Stranger', 'Nikhil', 'Stranger', 'Dushyant', 'Santosh', 'MarkZuckerberg', 'Ashish', 'Nagesh', 'Aayushi', 'Pankaj', 'CPSingh', 'Jyoti', 'BillGates', 'Nagesh', 'Dushyant', 'Ashish', 'Santosh', 'Stranger', 'Surya', 'Nagesh', 'Stranger', 'CPSingh', 'Nikhil', 'Nagesh', 'Neha', 'Sonali', 'Harvinder']\n"
     ]
    }
   ],
   "source": [
    "print(pred_labels)"
   ]
  },
  {
   "cell_type": "code",
   "execution_count": 38,
   "metadata": {},
   "outputs": [
    {
     "name": "stdout",
     "output_type": "stream",
     "text": [
      "FOUND\n",
      "('Stranger', 'Davinder')\n",
      "[[  1   0   0   0   0   0   0   0   0   0   0   0   0   0   0   0   0   0\n",
      "    0   0   0   0]\n",
      " [  0   2   0   0   0   0   0   0   0   0   0   0   0   0   0   0   0   0\n",
      "    0   0   0   0]\n",
      " [  0   0   1   0   0   0   0   0   0   0   0   0   0   0   0   0   0   0\n",
      "    0   0   0   0]\n",
      " [  0   0   0   3   0   0   0   0   0   0   0   0   0   0   0   0   0   0\n",
      "    0   0   0   0]\n",
      " [  0   0   0   0   1   0   0   0   0   0   0   0   0   0   0   0   0   0\n",
      "    0   0   0   0]\n",
      " [  0   0   0   0   0   4   0   0   0   0   0   0   0   0   0   0   0   0\n",
      "    0   0   0   0]\n",
      " [  0   0   0   0   0   0   4   0   0   0   0   0   0   0   0   0   0   0\n",
      "    0   1   0   0]\n",
      " [  0   0   0   0   0   0   0   3   0   0   0   0   0   0   0   0   0   0\n",
      "    0   0   0   0]\n",
      " [  0   0   0   0   0   0   0   0   2   0   0   0   0   0   0   0   0   0\n",
      "    0   0   0   0]\n",
      " [  0   0   0   0   0   0   0   0   0   1   0   0   0   0   0   0   0   0\n",
      "    0   0   0   0]\n",
      " [  0   0   0   0   0   0   0   0   0   0   1   0   0   0   0   0   0   0\n",
      "    0   0   0   0]\n",
      " [  0   0   0   0   0   0   0   0   0   0   0   1   0   0   0   0   0   0\n",
      "    0   0   0   0]\n",
      " [  0   0   0   0   0   0   0   0   0   0   0   0   1   0   0   0   0   0\n",
      "    0   0   0   0]\n",
      " [  0   0   0   0   0   0   0   0   0   0   0   0   0   4   0   0   0   0\n",
      "    0   0   0   0]\n",
      " [  0   0   0   0   0   0   0   0   0   0   0   0   0   0   2   0   0   0\n",
      "    0   0   0   0]\n",
      " [  0   0   0   0   0   0   0   0   0   0   0   0   0   0   0   4   0   0\n",
      "    0   0   0   0]\n",
      " [  0   0   0   0   0   0   0   0   0   0   0   0   0   0   0   0   1   0\n",
      "    0   0   0   0]\n",
      " [  0   0   0   0   0   0   0   0   0   0   0   0   0   0   0   0   0   5\n",
      "    0   0   0   0]\n",
      " [  0   0   0   0   0   0   0   0   0   0   0   0   0   0   0   0   0   0\n",
      "    2   0   0   0]\n",
      " [  0   0   0   0   0   0   0   0   0   0   0   0   0   0   0   0   0   0\n",
      "    0 172   0   0]\n",
      " [  0   0   0   0   0   0   0   0   0   0   0   0   0   0   0   0   0   0\n",
      "    0   0   1   0]\n",
      " [  0   0   0   0   0   0   0   0   0   0   0   0   0   0   0   0   0   0\n",
      "    0   0   0   2]]\n"
     ]
    },
    {
     "data": {
      "image/png": "[encoded data removed]",
      "text/plain": [
       "<Figure size 432x288 with 2 Axes>"
      ]
     },
     "metadata": {
      "needs_background": "light"
     },
     "output_type": "display_data"
    }
   ],
   "source": [
    "for i in results:\n",
    "    if i[0] != i[1]:\n",
    "        print(\"FOUND\")\n",
    "        print(i)\n",
    "        \n",
    "cm = sklearn.metrics.confusion_matrix(val_labels, pred_labels)\n",
    "print(cm)\n",
    "#cm = [i/sum(i) for i in cm]\n",
    "\n",
    "\n",
    "fig, ax = plot_confusion_matrix(conf_mat=cm,\n",
    "                                colorbar=True,\n",
    "                                show_absolute=False,\n",
    "                                show_normed=True)\n",
    "plt.show()"
   ]
  },
  {
   "cell_type": "code",
   "execution_count": 87,
   "metadata": {},
   "outputs": [
    {
     "data": {
      "text/plain": [
       "[('Stranger', 'Stranger'),\n",
       " ('Stranger', 'Stranger'),\n",
       " ('Stranger', 'Stranger'),\n",
       " ('Stranger', 'Stranger'),\n",
       " ('Stranger', 'Stranger'),\n",
       " ('Stranger', 'Stranger'),\n",
       " ('Stranger', 'Stranger'),\n",
       " ('Stranger', 'Stranger'),\n",
       " ('Stranger', 'Stranger'),\n",
       " ('Stranger', 'Stranger'),\n",
       " ('Stranger', 'Stranger'),\n",
       " ('Stranger', 'Stranger'),\n",
       " ('Stranger', 'Stranger'),\n",
       " ('Stranger', 'Stranger'),\n",
       " ('Stranger', 'Stranger'),\n",
       " ('Stranger', 'Stranger'),\n",
       " ('Stranger', 'Stranger'),\n",
       " ('Stranger', 'Stranger'),\n",
       " ('Stranger', 'Stranger'),\n",
       " ('Stranger', 'Stranger'),\n",
       " ('Stranger', 'Stranger'),\n",
       " ('Stranger', 'Stranger'),\n",
       " ('Stranger', 'Stranger'),\n",
       " ('Stranger', 'Stranger'),\n",
       " ('Stranger', 'Stranger'),\n",
       " ('Stranger', 'Stranger'),\n",
       " ('Stranger', 'Stranger'),\n",
       " ('Stranger', 'Stranger'),\n",
       " ('Stranger', 'Stranger'),\n",
       " ('Stranger', 'Stranger'),\n",
       " ('Stranger', 'Stranger'),\n",
       " ('Stranger', 'Stranger'),\n",
       " ('Stranger', 'Stranger'),\n",
       " ('Stranger', 'Stranger'),\n",
       " ('Stranger', 'Stranger'),\n",
       " ('Stranger', 'Stranger'),\n",
       " ('Stranger', 'Stranger'),\n",
       " ('Stranger', 'Stranger'),\n",
       " ('Stranger', 'Stranger'),\n",
       " ('Stranger', 'Stranger'),\n",
       " ('Stranger', 'Stranger'),\n",
       " ('Stranger', 'Stranger'),\n",
       " ('Stranger', 'Stranger'),\n",
       " ('Stranger', 'Stranger'),\n",
       " ('Stranger', 'Stranger'),\n",
       " ('Stranger', 'Stranger'),\n",
       " ('Stranger', 'Stranger'),\n",
       " ('Stranger', 'Stranger'),\n",
       " ('Stranger', 'Stranger'),\n",
       " ('Stranger', 'Stranger'),\n",
       " ('Stranger', 'Stranger'),\n",
       " ('Stranger', 'Stranger'),\n",
       " ('Stranger', 'Stranger'),\n",
       " ('Stranger', 'Stranger'),\n",
       " ('Stranger', 'Stranger'),\n",
       " ('Stranger', 'Stranger'),\n",
       " ('Stranger', 'Stranger'),\n",
       " ('Stranger', 'Stranger'),\n",
       " ('Stranger', 'Stranger'),\n",
       " ('Stranger', 'Stranger'),\n",
       " ('Stranger', 'Stranger'),\n",
       " ('Stranger', 'Stranger'),\n",
       " ('Stranger', 'Stranger'),\n",
       " ('Stranger', 'Stranger'),\n",
       " ('Stranger', 'Stranger'),\n",
       " ('Stranger', 'Stranger'),\n",
       " ('Stranger', 'Stranger'),\n",
       " ('Stranger', 'Stranger'),\n",
       " ('Stranger', 'Stranger'),\n",
       " ('Stranger', 'Stranger'),\n",
       " ('Stranger', 'Stranger'),\n",
       " ('Stranger', 'Stranger'),\n",
       " ('Stranger', 'Stranger'),\n",
       " ('Stranger', 'Stranger'),\n",
       " ('Stranger', 'Stranger'),\n",
       " ('Stranger', 'Stranger'),\n",
       " ('Stranger', 'Stranger'),\n",
       " ('Stranger', 'Stranger'),\n",
       " ('Stranger', 'Stranger'),\n",
       " ('Stranger', 'Stranger'),\n",
       " ('Stranger', 'Stranger'),\n",
       " ('Stranger', 'Stranger'),\n",
       " ('Stranger', 'Stranger'),\n",
       " ('Stranger', 'Stranger'),\n",
       " ('Stranger', 'Stranger'),\n",
       " ('Stranger', 'Stranger'),\n",
       " ('Stranger', 'Stranger'),\n",
       " ('Stranger', 'Stranger'),\n",
       " ('Stranger', 'Stranger'),\n",
       " ('Stranger', 'Stranger'),\n",
       " ('Stranger', 'Stranger'),\n",
       " ('Stranger', 'Stranger'),\n",
       " ('Stranger', 'Stranger'),\n",
       " ('Stranger', 'Stranger'),\n",
       " ('Stranger', 'Stranger'),\n",
       " ('Stranger', 'Stranger'),\n",
       " ('Stranger', 'Stranger'),\n",
       " ('Stranger', 'Stranger'),\n",
       " ('Stranger', 'Stranger'),\n",
       " ('Stranger', 'Stranger'),\n",
       " ('Stranger', 'Stranger'),\n",
       " ('Stranger', 'Stranger'),\n",
       " ('Stranger', 'Stranger'),\n",
       " ('Stranger', 'Stranger'),\n",
       " ('Stranger', 'Stranger'),\n",
       " ('Stranger', 'Stranger'),\n",
       " ('Stranger', 'Stranger'),\n",
       " ('Stranger', 'Stranger'),\n",
       " ('Stranger', 'Stranger'),\n",
       " ('Stranger', 'Stranger'),\n",
       " ('Stranger', 'Stranger'),\n",
       " ('Stranger', 'Stranger'),\n",
       " ('Stranger', 'Stranger'),\n",
       " ('Stranger', 'Stranger'),\n",
       " ('Stranger', 'Stranger'),\n",
       " ('Stranger', 'Stranger'),\n",
       " ('Stranger', 'Stranger'),\n",
       " ('Stranger', 'Stranger'),\n",
       " ('Stranger', 'Stranger'),\n",
       " ('Stranger', 'Stranger'),\n",
       " ('Stranger', 'Stranger'),\n",
       " ('Stranger', 'Stranger'),\n",
       " ('Stranger', 'Stranger'),\n",
       " ('Stranger', 'Stranger'),\n",
       " ('Stranger', 'Stranger'),\n",
       " ('Stranger', 'Stranger'),\n",
       " ('Stranger', 'Stranger'),\n",
       " ('Stranger', 'Stranger'),\n",
       " ('Stranger', 'Stranger'),\n",
       " ('Stranger', 'Stranger'),\n",
       " ('Stranger', 'Stranger'),\n",
       " ('Stranger', 'Stranger'),\n",
       " ('Stranger', 'Stranger'),\n",
       " ('Stranger', 'Stranger'),\n",
       " ('Stranger', 'Stranger'),\n",
       " ('Stranger', 'Stranger'),\n",
       " ('Stranger', 'Stranger'),\n",
       " ('Stranger', 'Stranger'),\n",
       " ('Stranger', 'Stranger'),\n",
       " ('Stranger', 'Stranger'),\n",
       " ('Stranger', 'Stranger'),\n",
       " ('Stranger', 'Stranger'),\n",
       " ('Stranger', 'Stranger'),\n",
       " ('Stranger', 'Stranger'),\n",
       " ('Stranger', 'Stranger'),\n",
       " ('Stranger', 'Stranger'),\n",
       " ('Stranger', 'Stranger'),\n",
       " ('Stranger', 'Stranger'),\n",
       " ('Stranger', 'Stranger'),\n",
       " ('Stranger', 'Stranger'),\n",
       " ('Stranger', 'Stranger'),\n",
       " ('Stranger', 'Stranger'),\n",
       " ('Stranger', 'Stranger'),\n",
       " ('Stranger', 'Stranger'),\n",
       " ('Stranger', 'Stranger'),\n",
       " ('Stranger', 'Stranger'),\n",
       " ('Stranger', 'Stranger'),\n",
       " ('Stranger', 'Stranger'),\n",
       " ('Stranger', 'Stranger'),\n",
       " ('Stranger', 'Stranger'),\n",
       " ('Stranger', 'Stranger'),\n",
       " ('Stranger', 'Stranger'),\n",
       " ('Stranger', 'Stranger'),\n",
       " ('Stranger', 'Stranger'),\n",
       " ('Stranger', 'Stranger'),\n",
       " ('Stranger', 'Stranger'),\n",
       " ('Davinder', 'Davinder'),\n",
       " ('Abhishek', 'Abhishek'),\n",
       " ('Nikhil', 'Nikhil'),\n",
       " ('Nikhil', 'Nikhil'),\n",
       " ('Ashish', 'Ashish'),\n",
       " ('Neha', 'Neha'),\n",
       " ('Santosh', 'Santosh'),\n",
       " ('Santosh', 'Santosh'),\n",
       " ('Abhishek', 'Abhishek'),\n",
       " ('Suresh', 'Suresh'),\n",
       " ('Davinder', 'Davinder'),\n",
       " ('Santosh', 'Santosh'),\n",
       " ('LarryPage', 'LarryPage'),\n",
       " ('AnthonyHopkins', 'AnthonyHopkins'),\n",
       " ('Sonali', 'Sonali'),\n",
       " ('Davinder', 'Davinder'),\n",
       " ('CPSingh', 'CPSingh'),\n",
       " ('Surya', 'Surya'),\n",
       " ('Dushyant', 'Dushyant'),\n",
       " ('Harendra', 'Harendra'),\n",
       " ('Davinder', 'Davinder'),\n",
       " ('Davinder', 'Davinder'),\n",
       " ('CPSingh', 'CPSingh'),\n",
       " ('Stranger', 'Stranger'),\n",
       " ('Harendra', 'Harendra'),\n",
       " ('Stranger', 'Stranger'),\n",
       " ('Stranger', 'Stranger'),\n",
       " ('Nikhil', 'Nikhil'),\n",
       " ('Stranger', 'Stranger'),\n",
       " ('Dushyant', 'Dushyant'),\n",
       " ('Santosh', 'Santosh'),\n",
       " ('MarkZuckerberg', 'MarkZuckerberg'),\n",
       " ('Ashish', 'Ashish'),\n",
       " ('Nagesh', 'Nagesh'),\n",
       " ('Aayushi', 'Aayushi'),\n",
       " ('Pankaj', 'Pankaj'),\n",
       " ('CPSingh', 'CPSingh'),\n",
       " ('Jyoti', 'Jyoti'),\n",
       " ('BillGates', 'BillGates'),\n",
       " ('Nagesh', 'Nagesh'),\n",
       " ('Dushyant', 'Dushyant'),\n",
       " ('Ashish', 'Ashish'),\n",
       " ('Santosh', 'Santosh'),\n",
       " ('Stranger', 'Stranger'),\n",
       " ('Surya', 'Surya'),\n",
       " ('Nagesh', 'Nagesh'),\n",
       " ('Stranger', 'Stranger'),\n",
       " ('CPSingh', 'CPSingh'),\n",
       " ('Nikhil', 'Nikhil'),\n",
       " ('Nagesh', 'Nagesh'),\n",
       " ('Neha', 'Neha'),\n",
       " ('Sonali', 'Sonali'),\n",
       " ('Harvinder', 'Harvinder')]"
      ]
     },
     "execution_count": 87,
     "metadata": {},
     "output_type": "execute_result"
    }
   ],
   "source": [
    "results"
   ]
  },
  {
   "cell_type": "code",
   "execution_count": 144,
   "metadata": {},
   "outputs": [
    {
     "name": "stdout",
     "output_type": "stream",
     "text": [
      "LarryPage Stranger\n"
     ]
    }
   ],
   "source": [
    "print(test_labels[6], pred_labels[6])"
   ]
  },
  {
   "cell_type": "code",
   "execution_count": 83,
   "metadata": {},
   "outputs": [
    {
     "data": {
      "text/plain": [
       "<matplotlib.image.AxesImage at 0x7f7b0ff7ecf8>"
      ]
     },
     "execution_count": 83,
     "metadata": {},
     "output_type": "execute_result"
    },
    {
     "data": {
      "image/png": "[encoded data removed]",
      "text/plain": [
       "<Figure size 432x288 with 1 Axes>"
      ]
     },
     "metadata": {
      "needs_background": "light"
     },
     "output_type": "display_data"
    }
   ],
   "source": [
    "plt.imshow(test_pre[14])"
   ]
  },
  {
   "cell_type": "code",
   "execution_count": 38,
   "metadata": {},
   "outputs": [
    {
     "data": {
      "text/plain": [
       "['Abhishek', 'Nikhil', 'Ashish', 'Santosh', 'Abhishek']"
      ]
     },
     "execution_count": 38,
     "metadata": {},
     "output_type": "execute_result"
    }
   ],
   "source": [
    "test_labels[:5]"
   ]
  },
  {
   "cell_type": "code",
   "execution_count": 39,
   "metadata": {},
   "outputs": [
    {
     "ename": "NameError",
     "evalue": "name 'json' is not defined",
     "output_type": "error",
     "traceback": [
      "\u001b[0;31m---------------------------------------------------------------------------\u001b[0m",
      "\u001b[0;31mNameError\u001b[0m                                 Traceback (most recent call last)",
      "\u001b[0;32m<ipython-input-39-cd97ec2b250e>\u001b[0m in \u001b[0;36m<module>\u001b[0;34m()\u001b[0m\n\u001b[0;32m----> 1\u001b[0;31m \u001b[0mjson\u001b[0m\u001b[0;34m.\u001b[0m\u001b[0mloads\u001b[0m\u001b[0;34m(\u001b[0m\u001b[0ma\u001b[0m\u001b[0;34m.\u001b[0m\u001b[0mtext\u001b[0m\u001b[0;34m)\u001b[0m\u001b[0;34m\u001b[0m\u001b[0;34m\u001b[0m\u001b[0m\n\u001b[0m",
      "\u001b[0;31mNameError\u001b[0m: name 'json' is not defined"
     ]
    }
   ],
   "source": [
    "json.loads(a.text)"
   ]
  },
  {
   "cell_type": "code",
   "execution_count": 16,
   "metadata": {},
   "outputs": [],
   "source": [
    "import requests as re\n",
    "import json\n",
    "import pickle"
   ]
  },
  {
   "cell_type": "code",
   "execution_count": 29,
   "metadata": {},
   "outputs": [],
   "source": [
    "train_x, test_x, train_y, test_y = train_test_split(imgs,labels,test_size=0)"
   ]
  },
  {
   "cell_type": "code",
   "execution_count": 47,
   "metadata": {},
   "outputs": [
    {
     "data": {
      "text/plain": [
       "['Harendra',\n",
       " 'Neha',\n",
       " 'Suresh',\n",
       " 'Jyoti',\n",
       " 'Harvinder',\n",
       " 'Nikhil',\n",
       " 'AnthonyHopkins',\n",
       " 'Jyoti',\n",
       " 'Sonali',\n",
       " 'Harendra']"
      ]
     },
     "execution_count": 47,
     "metadata": {},
     "output_type": "execute_result"
    }
   ],
   "source": [
    "train_y[10:20]"
   ]
  },
  {
   "cell_type": "code",
   "execution_count": 39,
   "metadata": {},
   "outputs": [
    {
     "data": {
      "text/plain": [
       "['Abhishek',\n",
       " 'Nikhil',\n",
       " 'Ashish',\n",
       " 'Santosh',\n",
       " 'Abhishek',\n",
       " 'Suresh',\n",
       " 'LarryPage',\n",
       " 'AnthonyHopkins',\n",
       " 'Davinder',\n",
       " 'Sonu',\n",
       " 'Surya',\n",
       " 'Harendra',\n",
       " 'Davinder',\n",
       " 'CPSingh',\n",
       " 'Dushyant',\n",
       " 'MarkZuckerberg',\n",
       " 'Aayushi',\n",
       " 'Pankaj',\n",
       " 'Jyoti',\n",
       " 'BillGates',\n",
       " 'Nagesh',\n",
       " 'Neha',\n",
       " 'Sonali',\n",
       " 'Harvinder']"
      ]
     },
     "execution_count": 39,
     "metadata": {},
     "output_type": "execute_result"
    }
   ],
   "source": [
    "test_labels"
   ]
  },
  {
   "cell_type": "code",
   "execution_count": 42,
   "metadata": {},
   "outputs": [
    {
     "data": {
      "text/plain": [
       "['Abhishek',\n",
       " 'Neha',\n",
       " 'Surya',\n",
       " 'Santosh',\n",
       " 'Abhishek',\n",
       " 'Suresh',\n",
       " 'BillGates',\n",
       " 'AnthonyHopkins',\n",
       " 'Davinder',\n",
       " 'Suresh',\n",
       " 'Surya',\n",
       " 'Neha',\n",
       " 'BillGates',\n",
       " 'Surya',\n",
       " 'Dushyant',\n",
       " 'BillGates',\n",
       " 'Neha',\n",
       " 'Santosh',\n",
       " 'Neha',\n",
       " 'Dushyant',\n",
       " 'Abhishek',\n",
       " 'Neha',\n",
       " 'Neha',\n",
       " 'Neha']"
      ]
     },
     "execution_count": 42,
     "metadata": {},
     "output_type": "execute_result"
    }
   ],
   "source": [
    "pred_labels"
   ]
  },
  {
   "cell_type": "code",
   "execution_count": 52,
   "metadata": {},
   "outputs": [
    {
     "name": "stdout",
     "output_type": "stream",
     "text": [
      "['Nikhil', 'Suresh', 'AnthonyHopkins', 'Harendra', 'Jyoti', 'Neha', 'Sonali', 'Harvinder']\n",
      "8\n",
      "0.3333333333333333\n"
     ]
    }
   ],
   "source": [
    "c = [i for i,j in zip(pred_labels, test_labels) if i == j]\n",
    "print(c)\n",
    "print(len(c))\n",
    "print(len(c)/len(pred_labels))"
   ]
  },
  {
   "cell_type": "code",
   "execution_count": 97,
   "metadata": {},
   "outputs": [
    {
     "data": {
      "text/plain": [
       "False"
      ]
     },
     "execution_count": 97,
     "metadata": {},
     "output_type": "execute_result"
    }
   ],
   "source": [
    "test_imgs[0].dtype == 'float'"
   ]
  },
  {
   "cell_type": "code",
   "execution_count": 36,
   "metadata": {},
   "outputs": [
    {
     "data": {
      "text/plain": [
       "array([[[[0.87120481, 0.87120481, 0.87120481],\n",
       "         [0.87131204, 0.87131204, 0.87131204],\n",
       "         [0.87463235, 0.87463235, 0.87463235],\n",
       "         ...,\n",
       "         [0.99203431, 0.99203431, 0.99203431],\n",
       "         [0.99239047, 0.99239047, 0.99239047],\n",
       "         [0.99571461, 0.99571461, 0.99571461]],\n",
       "\n",
       "        [[0.8884689 , 0.8884689 , 0.8884689 ],\n",
       "         [0.89157858, 0.89157858, 0.89157858],\n",
       "         [0.89522059, 0.89522059, 0.89522059],\n",
       "         ...,\n",
       "         [0.98860294, 0.98860294, 0.98860294],\n",
       "         [0.98863741, 0.98863741, 0.98863741],\n",
       "         [0.9889591 , 0.9889591 , 0.9889591 ]],\n",
       "\n",
       "        [[0.89693627, 0.89693627, 0.89693627],\n",
       "         [0.90036765, 0.90036765, 0.90036765],\n",
       "         [0.90404412, 0.90404412, 0.90404412],\n",
       "         ...,\n",
       "         [0.99433594, 0.99433594, 0.99433594],\n",
       "         [0.99185432, 0.99185432, 0.99185432],\n",
       "         [0.99474954, 0.99474954, 0.99474954]],\n",
       "\n",
       "        ...,\n",
       "\n",
       "        [[0.08212699, 0.08212699, 0.08212699],\n",
       "         [0.0758004 , 0.0758004 , 0.0758004 ],\n",
       "         [0.07460555, 0.07460555, 0.07460555],\n",
       "         ...,\n",
       "         [0.38786382, 0.38786382, 0.38786382],\n",
       "         [0.21084176, 0.21084176, 0.21084176],\n",
       "         [0.14618183, 0.14618183, 0.14618183]],\n",
       "\n",
       "        [[0.08187423, 0.08187423, 0.08187423],\n",
       "         [0.07876455, 0.07876455, 0.07876455],\n",
       "         [0.07512255, 0.07512255, 0.07512255],\n",
       "         ...,\n",
       "         [0.33229167, 0.33229167, 0.33229167],\n",
       "         [0.2946538 , 0.2946538 , 0.2946538 ],\n",
       "         [0.14410233, 0.14410233, 0.14410233]],\n",
       "\n",
       "        [[0.07855009, 0.07855009, 0.07855009],\n",
       "         [0.07844286, 0.07844286, 0.07844286],\n",
       "         [0.07512255, 0.07512255, 0.07512255],\n",
       "         ...,\n",
       "         [0.35116422, 0.35116422, 0.35116422],\n",
       "         [0.27106311, 0.27106311, 0.27106311],\n",
       "         [0.15654105, 0.15654105, 0.15654105]]],\n",
       "\n",
       "\n",
       "       [[[0.78150391, 0.78150391, 0.78150391],\n",
       "         [0.78449563, 0.78449563, 0.78449563],\n",
       "         [0.78481618, 0.78481618, 0.78481618],\n",
       "         ...,\n",
       "         [0.76470588, 0.76470588, 0.76470588],\n",
       "         [0.76470588, 0.76470588, 0.76470588],\n",
       "         [0.76470588, 0.76470588, 0.76470588]],\n",
       "\n",
       "        [[0.79115579, 0.79115579, 0.79115579],\n",
       "         [0.78851792, 0.78851792, 0.78851792],\n",
       "         [0.78823529, 0.78823529, 0.78823529],\n",
       "         ...,\n",
       "         [0.76597771, 0.76597771, 0.76597771],\n",
       "         [0.7648472 , 0.7648472 , 0.7648472 ],\n",
       "         [0.76616613, 0.76616613, 0.76616613]],\n",
       "\n",
       "        [[0.79599035, 0.79599035, 0.79599035],\n",
       "         [0.79352405, 0.79352405, 0.79352405],\n",
       "         [0.79114009, 0.79114009, 0.79114009],\n",
       "         ...,\n",
       "         [0.76840725, 0.76840725, 0.76840725],\n",
       "         [0.76711474, 0.76711474, 0.76711474],\n",
       "         [0.76614966, 0.76614966, 0.76614966]],\n",
       "\n",
       "        ...,\n",
       "\n",
       "        [[0.99604396, 0.99604396, 0.99604396],\n",
       "         [0.99507889, 0.99507889, 0.99507889],\n",
       "         [0.91375421, 0.91375421, 0.91375421],\n",
       "         ...,\n",
       "         [0.48359949, 0.48359949, 0.48359949],\n",
       "         [0.54964384, 0.54964384, 0.54964384],\n",
       "         [0.51029029, 0.51029029, 0.51029029]],\n",
       "\n",
       "        [[0.99612554, 0.99612554, 0.99612554],\n",
       "         [0.99744447, 0.99744447, 0.99744447],\n",
       "         [0.8677765 , 0.8677765 , 0.8677765 ],\n",
       "         ...,\n",
       "         [0.46781863, 0.46781863, 0.46781863],\n",
       "         [0.55413297, 0.55413297, 0.55413297],\n",
       "         [0.52590993, 0.52590993, 0.52590993]],\n",
       "\n",
       "        [[0.99554419, 0.99554419, 0.99554419],\n",
       "         [0.98058555, 0.98058555, 0.98058555],\n",
       "         [0.88413335, 0.88413335, 0.88413335],\n",
       "         ...,\n",
       "         [0.50416169, 0.50416169, 0.50416169],\n",
       "         [0.50892387, 0.50892387, 0.50892387],\n",
       "         [0.55423943, 0.55423943, 0.55423943]]],\n",
       "\n",
       "\n",
       "       [[[0.69633254, 0.70744216, 0.74199921],\n",
       "         [0.78441388, 0.79899814, 0.83872036],\n",
       "         [0.79920405, 0.81372489, 0.85356879],\n",
       "         ...,\n",
       "         [0.70990916, 0.69999613, 0.71553333],\n",
       "         [0.68535124, 0.67626905, 0.69399792],\n",
       "         [0.61915195, 0.61568962, 0.63524683]],\n",
       "\n",
       "        [[0.74504609, 0.74826291, 0.79069313],\n",
       "         [0.85895351, 0.86951588, 0.90423961],\n",
       "         [0.86780238, 0.87929903, 0.91432403],\n",
       "         ...,\n",
       "         [0.82410979, 0.80484511, 0.82865128],\n",
       "         [0.80036212, 0.78096457, 0.80471926],\n",
       "         [0.69673587, 0.68149654, 0.70484425]],\n",
       "\n",
       "        [[0.77114258, 0.78030634, 0.81722385],\n",
       "         [0.86217686, 0.87343474, 0.90870514],\n",
       "         [0.87192791, 0.88369236, 0.91898633],\n",
       "         ...,\n",
       "         [0.84263101, 0.82302322, 0.84655278],\n",
       "         [0.81975845, 0.80017393, 0.82370363],\n",
       "         [0.71278428, 0.6970155 , 0.7206122 ]],\n",
       "\n",
       "        ...,\n",
       "\n",
       "        [[0.16968596, 0.17355795, 0.17519912],\n",
       "         [0.02676421, 0.04136664, 0.05136652],\n",
       "         [0.0263154 , 0.04046115, 0.05258218],\n",
       "         ...,\n",
       "         [0.13679894, 0.14586637, 0.15714236],\n",
       "         [0.18175327, 0.20208528, 0.21435598],\n",
       "         [0.08237847, 0.11930853, 0.12645253]],\n",
       "\n",
       "        [[0.08777162, 0.0890945 , 0.0889301 ],\n",
       "         [0.03156994, 0.03439828, 0.03671238],\n",
       "         [0.03037105, 0.03107171, 0.04511924],\n",
       "         ...,\n",
       "         [0.14947861, 0.15088265, 0.17102719],\n",
       "         [0.28485801, 0.2881945 , 0.31450694],\n",
       "         [0.27012439, 0.29342547, 0.31086412]],\n",
       "\n",
       "        [[0.02466568, 0.03230007, 0.03197532],\n",
       "         [0.0235459 , 0.02425841, 0.02504441],\n",
       "         [0.02389229, 0.0225805 , 0.02902503],\n",
       "         ...,\n",
       "         [0.17248864, 0.17942964, 0.2052169 ],\n",
       "         [0.34309271, 0.34913652, 0.36821091],\n",
       "         [0.46734125, 0.46982318, 0.47195431]]],\n",
       "\n",
       "\n",
       "       ...,\n",
       "\n",
       "\n",
       "       [[[0.98835784, 0.98835784, 0.98835784],\n",
       "         [0.98835784, 0.98835784, 0.98835784],\n",
       "         [0.99156327, 0.99156327, 0.99156327],\n",
       "         ...,\n",
       "         [0.16550628, 0.16550628, 0.16550628],\n",
       "         [0.16925169, 0.16925169, 0.16925169],\n",
       "         [0.17622166, 0.17622166, 0.17622166]],\n",
       "\n",
       "        [[0.99178922, 0.99178922, 0.99178922],\n",
       "         [0.99178922, 0.99178922, 0.99178922],\n",
       "         [0.99209942, 0.99209942, 0.99209942],\n",
       "         ...,\n",
       "         [0.17076057, 0.17076057, 0.17076057],\n",
       "         [0.166142  , 0.166142  , 0.166142  ],\n",
       "         [0.17611443, 0.17611443, 0.17611443]],\n",
       "\n",
       "        [[0.99215686, 0.99215686, 0.99215686],\n",
       "         [0.99215686, 0.99215686, 0.99215686],\n",
       "         [0.99215686, 0.99215686, 0.99215686],\n",
       "         ...,\n",
       "         [0.17235754, 0.17235754, 0.17235754],\n",
       "         [0.17149586, 0.17149586, 0.17149586],\n",
       "         [0.17310432, 0.17310432, 0.17310432]],\n",
       "\n",
       "        ...,\n",
       "\n",
       "        [[0.26852405, 0.26852405, 0.26852405],\n",
       "         [0.26219746, 0.26219746, 0.26219746],\n",
       "         [0.25386795, 0.25386795, 0.25386795],\n",
       "         ...,\n",
       "         [0.10039445, 0.10039445, 0.10039445],\n",
       "         [0.11384804, 0.11384804, 0.11384804],\n",
       "         [0.12071078, 0.12071078, 0.12071078]],\n",
       "\n",
       "        [[0.25756357, 0.25756357, 0.25756357],\n",
       "         [0.25316713, 0.25316713, 0.25316713],\n",
       "         [0.23977099, 0.23977099, 0.23977099],\n",
       "         ...,\n",
       "         [0.10018765, 0.10018765, 0.10018765],\n",
       "         [0.11057368, 0.11057368, 0.11057368],\n",
       "         [0.11775812, 0.11775812, 0.11775812]],\n",
       "\n",
       "        [[0.24694776, 0.24694776, 0.24694776],\n",
       "         [0.23354396, 0.23354396, 0.23354396],\n",
       "         [0.22207797, 0.22207797, 0.22207797],\n",
       "         ...,\n",
       "         [0.10308287, 0.10308287, 0.10308287],\n",
       "         [0.11089537, 0.11089537, 0.11089537],\n",
       "         [0.12108226, 0.12108226, 0.12108226]]],\n",
       "\n",
       "\n",
       "       [[[0.84314491, 0.84314491, 0.84314491],\n",
       "         [0.84335937, 0.84335937, 0.84335937],\n",
       "         [0.84338235, 0.84338235, 0.84338235],\n",
       "         ...,\n",
       "         [0.80841759, 0.80841759, 0.80841759],\n",
       "         [0.81116345, 0.81116345, 0.81116345],\n",
       "         [0.80783931, 0.80783931, 0.80783931]],\n",
       "\n",
       "        [[0.84335937, 0.84335937, 0.84335937],\n",
       "         [0.84957874, 0.84957874, 0.84957874],\n",
       "         [0.8502451 , 0.8502451 , 0.8502451 ],\n",
       "         ...,\n",
       "         [0.80734528, 0.80734528, 0.80734528],\n",
       "         [0.8046224 , 0.8046224 , 0.8046224 ],\n",
       "         [0.8043007 , 0.8043007 , 0.8043007 ]],\n",
       "\n",
       "        [[0.84317555, 0.84317555, 0.84317555],\n",
       "         [0.84424786, 0.84424786, 0.84424786],\n",
       "         [0.84715456, 0.84715456, 0.84715456],\n",
       "         ...,\n",
       "         [0.8082644 , 0.8082644 , 0.8082644 ],\n",
       "         [0.80991881, 0.80991881, 0.80991881],\n",
       "         [0.80412837, 0.80412837, 0.80412837]],\n",
       "\n",
       "        ...,\n",
       "\n",
       "        [[0.21681602, 0.21681602, 0.21681602],\n",
       "         [0.23129213, 0.23129213, 0.23129213],\n",
       "         [0.25497089, 0.25497089, 0.25497089],\n",
       "         ...,\n",
       "         [0.45035233, 0.45035233, 0.45035233],\n",
       "         [0.45459176, 0.45459176, 0.45459176],\n",
       "         [0.45169654, 0.45169654, 0.45169654]],\n",
       "\n",
       "        [[0.21883808, 0.21883808, 0.21883808],\n",
       "         [0.21787301, 0.21787301, 0.21787301],\n",
       "         [0.23586474, 0.23586474, 0.23586474],\n",
       "         ...,\n",
       "         [0.4599686 , 0.4599686 , 0.4599686 ],\n",
       "         [0.45497089, 0.45497089, 0.45497089],\n",
       "         [0.45561428, 0.45561428, 0.45561428]],\n",
       "\n",
       "        [[0.21165365, 0.21165365, 0.21165365],\n",
       "         [0.20168122, 0.20168122, 0.20168122],\n",
       "         [0.23318398, 0.23318398, 0.23318398],\n",
       "         ...,\n",
       "         [0.44549249, 0.44549249, 0.44549249],\n",
       "         [0.45561428, 0.45561428, 0.45561428],\n",
       "         [0.46226256, 0.46226256, 0.46226256]]],\n",
       "\n",
       "\n",
       "       [[[0.1333295 , 0.1333295 , 0.1333295 ],\n",
       "         [0.14008502, 0.14008502, 0.14008502],\n",
       "         [0.14721967, 0.14721967, 0.14721967],\n",
       "         ...,\n",
       "         [0.22307751, 0.22307751, 0.22307751],\n",
       "         [0.21921722, 0.21921722, 0.21921722],\n",
       "         [0.21214001, 0.21214001, 0.21214001]],\n",
       "\n",
       "        [[0.12635953, 0.12635953, 0.12635953],\n",
       "         [0.13011259, 0.13011259, 0.13011259],\n",
       "         [0.13113511, 0.13113511, 0.13113511],\n",
       "         ...,\n",
       "         [0.22758119, 0.22758119, 0.22758119],\n",
       "         [0.22886795, 0.22886795, 0.22886795],\n",
       "         [0.21578585, 0.21578585, 0.21578585]],\n",
       "\n",
       "        [[0.12530254, 0.12530254, 0.12530254],\n",
       "         [0.12004825, 0.12004825, 0.12004825],\n",
       "         [0.11110983, 0.11110983, 0.11110983],\n",
       "         ...,\n",
       "         [0.22651271, 0.22651271, 0.22651271],\n",
       "         [0.2215265 , 0.2215265 , 0.2215265 ],\n",
       "         [0.22227711, 0.22227711, 0.22227711]],\n",
       "\n",
       "        ...,\n",
       "\n",
       "        [[0.21638327, 0.21638327, 0.21638327],\n",
       "         [0.21874234, 0.21874234, 0.21874234],\n",
       "         [0.2195121 , 0.2195121 , 0.2195121 ],\n",
       "         ...,\n",
       "         [0.05220588, 0.05220588, 0.05220588],\n",
       "         [0.05650276, 0.05650276, 0.05650276],\n",
       "         [0.06572457, 0.06572457, 0.06572457]],\n",
       "\n",
       "        [[0.21982996, 0.21982996, 0.21982996],\n",
       "         [0.21575521, 0.21575521, 0.21575521],\n",
       "         [0.21924786, 0.21924786, 0.21924786],\n",
       "         ...,\n",
       "         [0.0548943 , 0.0548943 , 0.0548943 ],\n",
       "         [0.05915671, 0.05915671, 0.05915671],\n",
       "         [0.06226639, 0.06226639, 0.06226639]],\n",
       "\n",
       "        [[0.22304688, 0.22304688, 0.22304688],\n",
       "         [0.21296722, 0.21296722, 0.21296722],\n",
       "         [0.22160692, 0.22160692, 0.22160692],\n",
       "         ...,\n",
       "         [0.04910386, 0.04910386, 0.04910386],\n",
       "         [0.05883502, 0.05883502, 0.05883502],\n",
       "         [0.05894225, 0.05894225, 0.05894225]]]])"
      ]
     },
     "execution_count": 36,
     "metadata": {},
     "output_type": "execute_result"
    }
   ],
   "source": [
    "preprocess([i for i in test_imgs])"
   ]
  },
  {
   "cell_type": "code",
   "execution_count": 17,
   "metadata": {},
   "outputs": [],
   "source": [
    "# Create Model\n",
    "t = re.post(\"http://localhost:5000/create\", data=json.dumps({'user':'ashish'}))"
   ]
  },
  {
   "cell_type": "code",
   "execution_count": 128,
   "metadata": {},
   "outputs": [],
   "source": [
    "a = re.post(\"http://localhost:5000/classify\", data=json.dumps({'preprocess':True, 'data':[i.tolist() for i in test_imgs], 'user':'ashish', 'type':'img'}))\n",
    "#[i.tolist() for i in test_imgs[:5]]\n",
    "#test_imgs.tolist()\n",
    "pred_labels = json.loads(a.text)"
   ]
  },
  {
   "cell_type": "code",
   "execution_count": 53,
   "metadata": {},
   "outputs": [],
   "source": [
    "t = re.post(\"http://localhost:5000/train\", data=json.dumps({'preprocess':False, 'data':train_x.tolist(), 'user':'ashish', 'type':'img', 'labels':train_y}))"
   ]
  },
  {
   "cell_type": "code",
   "execution_count": 26,
   "metadata": {},
   "outputs": [
    {
     "data": {
      "text/plain": [
       "(2, 160, 160, 3)"
      ]
     },
     "execution_count": 26,
     "metadata": {},
     "output_type": "execute_result"
    }
   ],
   "source": [
    "g = np.array(imgs[:2].tolist())\n",
    "g.shape"
   ]
  },
  {
   "cell_type": "code",
   "execution_count": 23,
   "metadata": {},
   "outputs": [],
   "source": [
    "t = re.post(\"http://localhost:5000/similarity\", data=json.dumps({'img':imgs[1].tolist(), 'data':imgs[7].tolist(), 'user':'help', 'type':'img'}))"
   ]
  },
  {
   "cell_type": "code",
   "execution_count": 35,
   "metadata": {},
   "outputs": [
    {
     "data": {
      "text/plain": [
       "(12, 512)"
      ]
     },
     "execution_count": 35,
     "metadata": {},
     "output_type": "execute_result"
    }
   ],
   "source": [
    "a.shape"
   ]
  },
  {
   "cell_type": "code",
   "execution_count": 32,
   "metadata": {},
   "outputs": [
    {
     "data": {
      "text/plain": [
       "'[\"AnthonyHopkins\"]\\n'"
      ]
     },
     "execution_count": 32,
     "metadata": {},
     "output_type": "execute_result"
    }
   ],
   "source": [
    "a.text"
   ]
  },
  {
   "cell_type": "code",
   "execution_count": 126,
   "metadata": {},
   "outputs": [
    {
     "name": "stdout",
     "output_type": "stream",
     "text": [
      "[[1 0 0 0 0 0 0 0 0 0 0 0 0 0 0 0 0 0 0 0 0 0]\n",
      " [0 2 0 0 0 0 0 0 0 0 0 0 0 0 0 0 0 0 0 0 0 0]\n",
      " [0 0 1 0 0 0 0 0 0 0 0 0 0 0 0 0 0 0 0 0 0 0]\n",
      " [0 0 0 1 0 0 0 0 0 0 0 0 0 0 0 0 0 0 0 0 0 0]\n",
      " [0 0 0 0 1 0 0 0 0 0 0 0 0 0 0 0 0 0 0 0 0 0]\n",
      " [0 0 0 0 0 1 0 0 0 0 0 0 0 0 0 0 0 0 0 0 0 0]\n",
      " [0 0 0 0 0 0 2 0 0 0 0 0 0 0 0 0 0 0 0 0 0 0]\n",
      " [0 0 0 0 0 0 0 1 0 0 0 0 0 0 0 0 0 0 0 0 0 0]\n",
      " [0 0 0 0 0 0 0 0 1 0 0 0 0 0 0 0 0 0 0 0 0 0]\n",
      " [0 0 0 0 0 0 0 0 0 1 0 0 0 0 0 0 0 0 0 0 0 0]\n",
      " [0 0 0 0 0 0 0 0 0 0 1 0 0 0 0 0 0 0 0 0 0 0]\n",
      " [0 0 0 0 0 0 0 0 0 0 0 1 0 0 0 0 0 0 0 0 0 0]\n",
      " [0 0 0 0 0 0 0 0 0 0 0 0 1 0 0 0 0 0 0 0 0 0]\n",
      " [0 0 0 0 0 0 0 0 0 0 0 0 0 1 0 0 0 0 0 0 0 0]\n",
      " [0 0 0 0 0 0 0 0 0 0 0 0 0 0 1 0 0 0 0 0 0 0]\n",
      " [0 0 0 0 0 0 0 0 0 0 0 0 0 0 0 1 0 0 0 0 0 0]\n",
      " [0 0 0 0 0 0 0 0 0 0 0 0 0 0 0 0 1 0 0 0 0 0]\n",
      " [0 0 0 0 0 0 0 0 0 0 0 0 0 0 0 0 0 1 0 0 0 0]\n",
      " [0 0 0 0 0 0 0 0 0 0 0 0 0 0 0 0 0 0 1 0 0 0]\n",
      " [0 0 0 0 0 0 0 0 0 0 0 0 0 0 0 0 0 0 0 1 0 0]\n",
      " [0 0 0 0 0 0 0 0 0 0 0 0 0 0 0 0 0 0 0 0 1 0]\n",
      " [0 0 0 0 0 0 0 0 0 0 0 0 0 0 0 0 0 0 0 0 0 1]]\n"
     ]
    },
    {
     "data": {
      "image/png": "[encoded data removed]",
      "text/plain": [
       "<Figure size 432x288 with 2 Axes>"
      ]
     },
     "metadata": {
      "needs_background": "light"
     },
     "output_type": "display_data"
    }
   ],
   "source": [
    "cm = sklearn.metrics.confusion_matrix(test_labels, pred_labels)\n",
    "print(cm)\n",
    "#cm = [i/sum(i) for i in cm]\n",
    "\n",
    "\n",
    "fig, ax = plot_confusion_matrix(conf_mat=cm,\n",
    "                                colorbar=True,\n",
    "                                show_absolute=False,\n",
    "                                show_normed=True)\n",
    "plt.show()"
   ]
  },
  {
   "cell_type": "code",
   "execution_count": 56,
   "metadata": {},
   "outputs": [
    {
     "data": {
      "text/plain": [
       "1.0"
      ]
     },
     "execution_count": 56,
     "metadata": {},
     "output_type": "execute_result"
    }
   ],
   "source": [
    "sklearn.metrics.accuracy_score(test_labels, pred_labels)"
   ]
  },
  {
   "cell_type": "code",
   "execution_count": 41,
   "metadata": {},
   "outputs": [],
   "source": [
    "del model"
   ]
  },
  {
   "cell_type": "code",
   "execution_count": 49,
   "metadata": {},
   "outputs": [
    {
     "name": "stdout",
     "output_type": "stream",
     "text": [
      "[50, '_']\n",
      "[51, 'In']\n",
      "[51, '__']\n",
      "[51, '_i']\n",
      "[51, 'ax']\n",
      "[51, 'cm']\n",
      "[51, 'np']\n",
      "[51, 'os']\n",
      "[51, 'pd']\n",
      "[51, 're']\n",
      "[51, 'tf']\n",
      "[52, 'Out']\n",
      "[52, 'PCA']\n",
      "[52, 'SVC']\n",
      "[52, '_14']\n",
      "[52, '_17']\n",
      "[52, '_21']\n",
      "[52, '_22']\n",
      "[52, '_27']\n",
      "[52, '_28']\n",
      "[52, '_36']\n",
      "[52, '_37']\n",
      "[52, '_38']\n",
      "[52, '___']\n",
      "[52, '_dh']\n",
      "[52, '_i1']\n",
      "[52, '_i2']\n",
      "[52, '_i3']\n",
      "[52, '_i4']\n",
      "[52, '_i5']\n",
      "[52, '_i6']\n",
      "[52, '_i7']\n",
      "[52, '_i8']\n",
      "[52, '_i9']\n",
      "[52, '_ih']\n",
      "[52, '_ii']\n",
      "[52, '_oh']\n",
      "[52, '_sh']\n",
      "[52, 'auc']\n",
      "[52, 'cv2']\n",
      "[52, 'fig']\n",
      "[52, 'obj']\n",
      "[52, 'plt']\n",
      "[52, 'sys']\n",
      "[52, 'var']\n",
      "[53, '_i10']\n",
      "[53, '_i11']\n",
      "[53, '_i12']\n",
      "[53, '_i13']\n",
      "[53, '_i14']\n",
      "[53, '_i15']\n",
      "[53, '_i16']\n",
      "[53, '_i17']\n",
      "[53, '_i18']\n",
      "[53, '_i19']\n",
      "[53, '_i20']\n",
      "[53, '_i21']\n",
      "[53, '_i22']\n",
      "[53, '_i23']\n",
      "[53, '_i24']\n",
      "[53, '_i25']\n",
      "[53, '_i26']\n",
      "[53, '_i27']\n",
      "[53, '_i28']\n",
      "[53, '_i29']\n",
      "[53, '_i30']\n",
      "[53, '_i31']\n",
      "[53, '_i32']\n",
      "[53, '_i33']\n",
      "[53, '_i34']\n",
      "[53, '_i35']\n",
      "[53, '_i36']\n",
      "[53, '_i37']\n",
      "[53, '_i38']\n",
      "[53, '_i39']\n",
      "[53, '_i40']\n",
      "[53, '_i41']\n",
      "[53, '_i42']\n",
      "[53, '_i43']\n",
      "[53, '_i44']\n",
      "[53, '_i45']\n",
      "[53, '_i46']\n",
      "[53, '_i47']\n",
      "[53, '_i48']\n",
      "[53, '_i49']\n",
      "[53, '_iii']\n",
      "[53, 'embs']\n",
      "[53, 'exit']\n",
      "[53, 'imgs']\n",
      "[53, 'json']\n",
      "[53, 'misc']\n",
      "[53, 'pred']\n",
      "[53, 'quit']\n",
      "[54, 'infer']\n",
      "[54, 'keras']\n",
      "[55, 'Axes3D']\n",
      "[55, 'imread']\n",
      "[55, 'labels']\n",
      "[55, 'pickle']\n",
      "[55, 'proj3d']\n",
      "[55, 'resize']\n",
      "[55, 'to_rgb']\n",
      "[56, 'FaceNet']\n",
      "[56, 'SCORERS']\n",
      "[56, '__doc__']\n",
      "[56, 'cluster']\n",
      "[56, 'results']\n",
      "[56, 'sklearn']\n",
      "[57, '__name__']\n",
      "[57, '__spec__']\n",
      "[57, 'distance']\n",
      "[57, 'f1_score']\n",
      "[57, 'log_loss']\n",
      "[57, 'nameDict']\n",
      "[57, 'r2_score']\n",
      "[58, 'X']\n",
      "[58, 'Y']\n",
      "[58, 'calc_embs']\n",
      "[58, 'i']\n",
      "[58, 'l']\n",
      "[58, 'prewhiten']\n",
      "[58, 'roc_curve']\n",
      "[58, 'test_imgs']\n",
      "[59, '__loader__']\n",
      "[59, 'classifier']\n",
      "[59, 'get_scorer']\n",
      "[59, 'hinge_loss']\n",
      "[59, 'image_size']\n",
      "[59, 'load_model']\n",
      "[59, 'preprocess']\n",
      "[59, 'test_names']\n",
      "[60, '__builtin__']\n",
      "[60, '__package__']\n",
      "[60, 'fbeta_score']\n",
      "[60, 'get_ipython']\n",
      "[60, 'make_scorer']\n",
      "[60, 'pred_labels']\n",
      "[60, 'test_labels']\n",
      "[61, 'LabelEncoder']\n",
      "[61, '__builtins__']\n",
      "[61, 'cascade_path']\n",
      "[61, 'hamming_loss']\n",
      "[61, 'l2_normalize']\n",
      "[61, 'recall_score']\n",
      "[61, 'test_dirpath']\n",
      "[62, 'check_scoring']\n",
      "[62, 'loadAndEncode']\n",
      "[62, 'roc_auc_score']\n",
      "[62, 'train_dirpath']\n",
      "[62, 'zero_one_loss']\n",
      "[63, 'accuracy_score']\n",
      "[63, 'coverage_error']\n",
      "[63, 'print_function']\n",
      "[63, 'test_filepaths']\n",
      "[64, 'consensus_score']\n",
      "[64, 'loadRawTestData']\n",
      "[64, 'precision_score']\n",
      "[64, 'v_measure_score']\n",
      "[65, 'brier_score_loss']\n",
      "[65, 'confusion_matrix']\n",
      "[65, 'pairwise_kernels']\n",
      "[65, 'silhouette_score']\n",
      "[66, 'cohen_kappa_score']\n",
      "[66, 'homogeneity_score']\n",
      "[66, 'matthews_corrcoef']\n",
      "[66, 'mutual_info_score']\n",
      "[67, 'completeness_score']\n",
      "[67, 'image_dir_basepath']\n",
      "[67, 'label_ranking_loss']\n",
      "[67, 'loadRawOrderedData']\n",
      "[67, 'mean_squared_error']\n",
      "[67, 'pairwise_distances']\n",
      "[67, 'silhouette_samples']\n",
      "[68, 'adjusted_rand_score']\n",
      "[68, 'euclidean_distances']\n",
      "[68, 'mean_absolute_error']\n",
      "[69, 'KNeighborsClassifier']\n",
      "[69, 'davies_bouldin_score']\n",
      "[69, 'loadPreProcessedData']\n",
      "[70, 'classification_report']\n",
      "[70, 'fowlkes_mallows_score']\n",
      "[70, 'load_and_align_images']\n",
      "[70, 'median_absolute_error']\n",
      "[70, 'plot_confusion_matrix']\n",
      "[71, 'calinski_harabaz_score']\n",
      "[71, 'mean_squared_log_error']\n",
      "[71, 'precision_recall_curve']\n",
      "[72, 'average_precision_score']\n",
      "[72, 'balanced_accuracy_score']\n",
      "[73, 'explained_variance_score']\n",
      "[73, 'jaccard_similarity_score']\n",
      "[74, 'pairwise_distances_argmin']\n",
      "[75, 'adjusted_mutual_info_score']\n",
      "[75, 'pairwise_distances_chunked']\n",
      "[77, 'normalized_mutual_info_score']\n",
      "[78, 'pairwise_distances_argmin_min']\n",
      "[80, 'precision_recall_fscore_support']\n",
      "[83, 'homogeneity_completeness_v_measure']\n",
      "[86, 'label_ranking_average_precision_score']\n",
      "11586\n"
     ]
    }
   ],
   "source": [
    "import sys\n",
    "from __future__ import print_function  # for Python2\n",
    "l = list()\n",
    "for var, obj in locals().items():\n",
    "    l.append([sys.getsizeof(var), var])\n",
    "l = sorted(l)\n",
    "for i in l:\n",
    "    print(i)\n",
    "\n",
    "print(sum((lambda i:[j[0] for j in i])(l)))"
   ]
  },
  {
   "cell_type": "code",
   "execution_count": 51,
   "metadata": {},
   "outputs": [
    {
     "data": {
      "text/plain": [
       "52224144"
      ]
     },
     "execution_count": 51,
     "metadata": {},
     "output_type": "execute_result"
    }
   ],
   "source": [
    "sys.getsizeof(imgs)"
   ]
  },
  {
   "cell_type": "code",
   "execution_count": 53,
   "metadata": {},
   "outputs": [
    {
     "name": "stdout",
     "output_type": "stream",
     "text": [
      "                          imgs:  49.8MiB\n",
      "                     test_imgs:  14.1MiB\n",
      "                          embs: 170.1KiB\n",
      "                             X: 170.1KiB\n",
      "                           _28:  88.0KiB\n",
      "                            cm:   3.9KiB\n",
      "                           SVC:   2.0KiB\n",
      "                             l:   1.9KiB\n",
      "                          _i23:   1.3KiB\n",
      "                           _i8:   1.3KiB\n"
     ]
    }
   ],
   "source": [
    "import sys\n",
    "def sizeof_fmt(num, suffix='B'):\n",
    "    ''' By Fred Cirera, after https://stackoverflow.com/a/1094933/1870254'''\n",
    "    for unit in ['','Ki','Mi','Gi','Ti','Pi','Ei','Zi']:\n",
    "        if abs(num) < 1024.0:\n",
    "            return \"%3.1f%s%s\" % (num, unit, suffix)\n",
    "        num /= 1024.0\n",
    "    return \"%.1f%s%s\" % (num, 'Yi', suffix)\n",
    "\n",
    "for name, size in sorted(((name, sys.getsizeof(value)) for name,value in locals().items()),\n",
    "                         key= lambda x: -x[1])[:10]:\n",
    "    print(\"{:>30}: {:>8}\".format(name,sizeof_fmt(size)))"
   ]
  },
  {
   "cell_type": "code",
   "execution_count": 12,
   "metadata": {},
   "outputs": [],
   "source": [
    "import cv2"
   ]
  },
  {
   "cell_type": "code",
   "execution_count": 11,
   "metadata": {},
   "outputs": [],
   "source": [
    "camera = cv2.VideoCapture(0)"
   ]
  },
  {
   "cell_type": "code",
   "execution_count": 41,
   "metadata": {},
   "outputs": [],
   "source": [
    "ret, frame = camera.read()"
   ]
  },
  {
   "cell_type": "code",
   "execution_count": 42,
   "metadata": {},
   "outputs": [
    {
     "data": {
      "text/plain": [
       "(480, 640, 3)"
      ]
     },
     "execution_count": 42,
     "metadata": {},
     "output_type": "execute_result"
    }
   ],
   "source": [
    "frame.shape"
   ]
  },
  {
   "cell_type": "code",
   "execution_count": 43,
   "metadata": {},
   "outputs": [
    {
     "data": {
      "text/plain": [
       "<matplotlib.image.AxesImage at 0x7fe78454aeb8>"
      ]
     },
     "execution_count": 43,
     "metadata": {},
     "output_type": "execute_result"
    },
    {
     "data": {
      "image/png": "[encoded data removed]",
      "text/plain": [
       "<Figure size 432x288 with 1 Axes>"
      ]
     },
     "metadata": {
      "needs_background": "light"
     },
     "output_type": "display_data"
    }
   ],
   "source": [
    "plt.imshow(frame)"
   ]
  },
  {
   "cell_type": "code",
   "execution_count": 58,
   "metadata": {},
   "outputs": [],
   "source": [
    "n = prewhiten(aligned[0])\n"
   ]
  },
  {
   "cell_type": "code",
   "execution_count": 59,
   "metadata": {},
   "outputs": [
    {
     "name": "stderr",
     "output_type": "stream",
     "text": [
      "W0520 12:40:40.647694 140634822248256 image.py:656] Clipping input data to the valid range for imshow with RGB data ([0..1] for floats or [0..255] for integers).\n"
     ]
    },
    {
     "data": {
      "text/plain": [
       "<matplotlib.image.AxesImage at 0x7fe772d54b70>"
      ]
     },
     "execution_count": 59,
     "metadata": {},
     "output_type": "execute_result"
    },
    {
     "data": {
      "image/png": "[encoded data removed]",
      "text/plain": [
       "<Figure size 432x288 with 1 Axes>"
      ]
     },
     "metadata": {
      "needs_background": "light"
     },
     "output_type": "display_data"
    }
   ],
   "source": [
    "plt.imshow(n)"
   ]
  },
  {
   "cell_type": "code",
   "execution_count": 96,
   "metadata": {},
   "outputs": [],
   "source": [
    "def align_images(images, margin = 70, image_size = 160):\n",
    "        try:\n",
    "            aligned_images = []\n",
    "            cascade = cv2.CascadeClassifier(cascade_path)\n",
    "            for img in images:\n",
    "                #print(filepath)\n",
    "                if type(img) is list:\n",
    "                    img = np.array(img)\n",
    "                img = to_rgb(img)\n",
    "                try:\n",
    "                    faces = cascade.detectMultiScale(img,\n",
    "                                                    scaleFactor=1.1,\n",
    "                                                    minNeighbors=3)\n",
    "                    (x, y, w, h) = faces[0]\n",
    "                    print(faces[0].dtype)\n",
    "                    cropped = img[y-margin//2:y+h+margin//2,\n",
    "                                x-margin//2:x+w+margin//2, :]\n",
    "                    print(cropped.dtype)\n",
    "                except Exception as e:\n",
    "                    print(\"error in face detection\")\n",
    "                    print(e)\n",
    "                    cropped = img\n",
    "                img = resize(cropped, (image_size, image_size), mode='reflect')\n",
    "                #if img.dtype in ('uint8', 'int64'):\n",
    "                    #img = img.astype('float')/255.\n",
    "                print(cropped)\n",
    "                print(img)\n",
    "                \n",
    "                #plt.imshow(img)\n",
    "                #plt.show()\n",
    "                #img = resize(img, (image_size, image_size), mode='reflect')\n",
    "                #plt.imshow(img)\n",
    "                #plt.show()\n",
    "                aligned_images.append(img)\n",
    "                return np.array(aligned_images)\n",
    "        except Exception as e:\n",
    "            print(\"Error in Preprocess \")\n",
    "            print(e)\n",
    "            return None"
   ]
  },
  {
   "cell_type": "code",
   "execution_count": 97,
   "metadata": {},
   "outputs": [
    {
     "name": "stdout",
     "output_type": "stream",
     "text": [
      "int32\n",
      "uint8\n",
      "[[[167 150 141]\n",
      "  [168 151 142]\n",
      "  [169 152 143]\n",
      "  ...\n",
      "  [157 157 157]\n",
      "  [157 157 157]\n",
      "  [157 157 157]]\n",
      "\n",
      " [[165 149 143]\n",
      "  [165 149 143]\n",
      "  [166 150 144]\n",
      "  ...\n",
      "  [158 157 160]\n",
      "  [157 156 159]\n",
      "  [157 156 159]]\n",
      "\n",
      " [[165 149 143]\n",
      "  [166 150 144]\n",
      "  [166 150 144]\n",
      "  ...\n",
      "  [157 159 161]\n",
      "  [156 158 160]\n",
      "  [156 158 160]]\n",
      "\n",
      " ...\n",
      "\n",
      " [[ 92  60  45]\n",
      "  [ 90  59  44]\n",
      "  [ 88  57  42]\n",
      "  ...\n",
      "  [ 87  65  48]\n",
      "  [ 87  69  54]\n",
      "  [ 88  70  55]]\n",
      "\n",
      " [[ 90  57  40]\n",
      "  [ 90  57  40]\n",
      "  [ 86  53  35]\n",
      "  ...\n",
      "  [ 88  64  47]\n",
      "  [ 87  67  52]\n",
      "  [ 90  70  55]]\n",
      "\n",
      " [[ 84  50  30]\n",
      "  [ 84  50  29]\n",
      "  [ 82  48  26]\n",
      "  ...\n",
      "  [ 88  64  47]\n",
      "  [ 87  67  52]\n",
      "  [ 89  69  54]]]\n",
      "[[[0.6507037  0.5850787  0.55474782]\n",
      "  [0.65364871 0.58802371 0.55769282]\n",
      "  [0.65386029 0.59017023 0.55824621]\n",
      "  ...\n",
      "  [0.61568627 0.61280637 0.61871458]\n",
      "  [0.61464461 0.61176471 0.61672794]\n",
      "  [0.61464461 0.61176471 0.61672794]]\n",
      "\n",
      " [[0.64393382 0.58118873 0.55686275]\n",
      "  [0.64705882 0.58431373 0.55998775]\n",
      "  [0.64785539 0.58613568 0.56207108]\n",
      "  ...\n",
      "  [0.61568627 0.61983667 0.6276798 ]\n",
      "  [0.61176471 0.61488971 0.62522308]\n",
      "  [0.61176471 0.61488971 0.62273284]]\n",
      "\n",
      " [[0.63792892 0.58039216 0.55398284]\n",
      "  [0.64002853 0.58249177 0.55998775]\n",
      "  [0.64185049 0.58431373 0.56207108]\n",
      "  ...\n",
      "  [0.61655082 0.62610294 0.63179477]\n",
      "  [0.61360294 0.62063323 0.62847637]\n",
      "  [0.61047794 0.61960784 0.62745098]]\n",
      "\n",
      " ...\n",
      "\n",
      " [[0.35949755 0.24307598 0.18553922]\n",
      "  [0.35529833 0.24097637 0.18031461]\n",
      "  [0.34944183 0.23651961 0.17377451]\n",
      "  ...\n",
      "  [0.31342582 0.22463905 0.1562634 ]\n",
      "  [0.34612343 0.26767578 0.20131549]\n",
      "  [0.34509804 0.27380993 0.21464461]]\n",
      "\n",
      " [[0.35422794 0.22794118 0.16439951]\n",
      "  [0.34382851 0.21817651 0.15336531]\n",
      "  [0.32625421 0.20102539 0.12725088]\n",
      "  ...\n",
      "  [0.30603362 0.21124196 0.14434647]\n",
      "  [0.33805147 0.25257353 0.190625  ]\n",
      "  [0.34176145 0.26770833 0.2088848 ]]\n",
      "\n",
      " [[0.33357843 0.20128676 0.12310049]\n",
      "  [0.32278837 0.19362171 0.11148035]\n",
      "  [0.3066435  0.17668026 0.09328565]\n",
      "  ...\n",
      "  [0.29707797 0.19817134 0.13349131]\n",
      "  [0.34034639 0.24944853 0.18520508]\n",
      "  [0.34405637 0.26458333 0.2057598 ]]]\n"
     ]
    }
   ],
   "source": [
    "aligned = align_images([frame], 50)"
   ]
  },
  {
   "cell_type": "code",
   "execution_count": 89,
   "metadata": {},
   "outputs": [
    {
     "data": {
      "text/plain": [
       "<matplotlib.image.AxesImage at 0x7fe7860d15c0>"
      ]
     },
     "execution_count": 89,
     "metadata": {},
     "output_type": "execute_result"
    },
    {
     "data": {
      "image/png": "[encoded data removed]",
      "text/plain": [
       "<Figure size 432x288 with 1 Axes>"
      ]
     },
     "metadata": {
      "needs_background": "light"
     },
     "output_type": "display_data"
    }
   ],
   "source": [
    "plt.imshow(aligned[0])"
   ]
  },
  {
   "cell_type": "code",
   "execution_count": 65,
   "metadata": {},
   "outputs": [],
   "source": [
    "del camera"
   ]
  },
  {
   "cell_type": "code",
   "execution_count": null,
   "metadata": {},
   "outputs": [],
   "source": []
  }
 ],
 "metadata": {
  "kernelspec": {
   "display_name": "Python 3",
   "language": "python",
   "name": "python3"
  },
  "language_info": {
   "codemirror_mode": {
    "name": "ipython",
    "version": 3
   },
   "file_extension": ".py",
   "mimetype": "text/x-python",
   "name": "python",
   "nbconvert_exporter": "python",
   "pygments_lexer": "ipython3",
   "version": "3.7.3"
  }
 },
 "nbformat": 4,
 "nbformat_minor": 2
}
